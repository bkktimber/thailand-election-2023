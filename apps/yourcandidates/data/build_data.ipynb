{
 "cells": [
  {
   "cell_type": "code",
   "execution_count": null,
   "metadata": {},
   "outputs": [],
   "source": [
    "# Mocking data for dev"
   ]
  },
  {
   "cell_type": "code",
   "execution_count": null,
   "metadata": {},
   "outputs": [],
   "source": [
    "import json\n",
    "import pandas as pd\n",
    "from faker import Faker"
   ]
  },
  {
   "cell_type": "code",
   "execution_count": null,
   "metadata": {},
   "outputs": [],
   "source": [
    "post_code_df = pd.read_csv('_62_postcode.csv').drop_duplicates(subset=['จังหวัด','อำเภอ'])\n",
    "electoral_district_df = pd.read_csv('_66_Vote62_election-zones.csv')"
   ]
  },
  {
   "cell_type": "code",
   "execution_count": null,
   "metadata": {},
   "outputs": [],
   "source": [
    "electoral_district_df"
   ]
  },
  {
   "cell_type": "code",
   "execution_count": null,
   "metadata": {},
   "outputs": [],
   "source": [
    "district_list = list()\n",
    "electdistrict = dict()\n",
    "for g, g_df in electoral_district_df.groupby(['จังหวัด', 'อำเภอ']):\n",
    "    province, district = g\n",
    "    electoral_nums = g_df['เขตเลือกตั้ง.1'].drop_duplicates().astype(int)\n",
    "    districts = g_df['อำเภอ'].drop_duplicates().values\n",
    "\n",
    "    dks = [f'{province}-{el_n}' for el_n in electoral_nums]\n",
    "    \n",
    "    for dk, en in zip(dks, electoral_nums):\n",
    "        d = electdistrict.get(dk, dict(district_list=list(), province=province, electoralDistrictNumber=en))\n",
    "        d['district_list'] += districts.tolist()\n",
    "        electdistrict[dk] = d\n",
    "    for d in districts:\n",
    "        district_list.append(\n",
    "            dict(district=d, province=province, electoral=[dict(fk=fk) for fk in dks]))"
   ]
  },
  {
   "cell_type": "code",
   "execution_count": null,
   "metadata": {},
   "outputs": [],
   "source": [
    "with open('district_province_list.json', 'w') as fp:\n",
    "    json.dump(district_list, fp, ensure_ascii=False)"
   ]
  },
  {
   "cell_type": "code",
   "execution_count": null,
   "metadata": {},
   "outputs": [],
   "source": [
    "with open('electoral_district_table.json', 'w') as fp:\n",
    "    json.dump(electdistrict, fp, ensure_ascii=False)"
   ]
  },
  {
   "cell_type": "code",
   "execution_count": null,
   "metadata": {},
   "outputs": [],
   "source": [
    "import random\n",
    "import re\n",
    "import requests\n",
    "import os\n",
    "fake = Faker('th')"
   ]
  },
  {
   "cell_type": "code",
   "execution_count": null,
   "metadata": {},
   "outputs": [],
   "source": [
    "electoral_dir = 'electorals'\n",
    "os.makedirs(electoral_dir, exist_ok=True)"
   ]
  },
  {
   "cell_type": "code",
   "execution_count": null,
   "metadata": {},
   "outputs": [],
   "source": [
    "twfu_people=pd.read_csv('./_People_table_exported_1.csv')\n",
    "twfu_parties=pd.read_csv('./_Parties_table_exported_1.csv')"
   ]
  },
  {
   "cell_type": "code",
   "execution_count": null,
   "metadata": {},
   "outputs": [],
   "source": [
    "twfu_parties = twfu_parties[(twfu_parties.PartyType == 'พรรค') & (~twfu_parties.Images.isna())]\n",
    "twfu_people  = twfu_people[~twfu_people.IsSenator]"
   ]
  },
  {
   "cell_type": "code",
   "execution_count": null,
   "metadata": {},
   "outputs": [],
   "source": [
    "image_urls = twfu_people[~twfu_people.Images.isna()].Images.apply(lambda x: re.sub('.*\\((.*)\\)','\\\\1',x)).tolist()\n",
    "occupations = twfu_people[~twfu_people.ExOccupation0.isna()].ExOccupation0.unique().astype(str).tolist()"
   ]
  },
  {
   "cell_type": "code",
   "execution_count": null,
   "metadata": {},
   "outputs": [],
   "source": [
    "party_list = []\n",
    "total_party = (twfu_parties.PartyType == 'พรรค').sum()\n",
    "party_number = list(range(1, total_party+1))\n",
    "random.shuffle(party_number)\n",
    "def get_url(url_pattern, party_name):\n",
    "    url =  url_pattern.format(party_name)\n",
    "    if requests.get(url).ok:\n",
    "        return url\n",
    "    return ''\n",
    "\n",
    "for i, party in twfu_parties[twfu_parties.PartyType == 'พรรค'].iterrows():\n",
    "    candiate_temp = []\n",
    "    for i in range(random.randint(1,3)):\n",
    "        candiate_temp.append(dict(Name=fake.name(), Image=random.choice(image_urls)))\n",
    "    \n",
    "    party_list.append(\n",
    "        dict(Number=party_number.pop(),\n",
    "             Image=re.sub('.*\\((.*)\\)','\\\\1', party.Images) if isinstance(party.Images, str) else '',\n",
    "             Name=party.Name,\n",
    "             PartyGroup=random.choice(['ฝ่ายค้าน', 'ฝ่ายรัฐบาล', 'ทั้งฝ่ายรัฐบาลและฝ่ายค้าน']),\n",
    "             Candidate=candiate_temp,\n",
    "             PastGovernment=random.random() < 0.1,\n",
    "             PastOpposition=random.random() < 0.8,\n",
    "             Policy=get_url('https://staging.election66.wevis.info/policyshop/party/{}',party.Name),\n",
    "             Promise=get_url('https://promisetracker.wevis.info/explore?party={}',party.Name),\n",
    "             Law='https://wevis.info/law-watch#investigate-section',\n",
    "             Others=get_url('https://theyworkforus.wevis.info/party/{}', party.Name),\n",
    "             Website=party.Website if isinstance(party.Website, str) else '',\n",
    "             PartyList=[dict(Name=fake.name(), PartyListNumber=plnum) for plnum in range(1,101)],\n",
    "            ))"
   ]
  },
  {
   "cell_type": "code",
   "execution_count": null,
   "metadata": {},
   "outputs": [],
   "source": [
    "party_dict = {p['Name']: p for p in party_list}"
   ]
  },
  {
   "cell_type": "code",
   "execution_count": null,
   "metadata": {},
   "outputs": [],
   "source": [
    "people_list = []\n",
    "for (province, electoral_nums), g_df in electoral_district_df.groupby(['จังหวัด', 'เขตเลือกตั้งที่']):\n",
    "    is_in_province = twfu_people['MpProvince'] == province\n",
    "    total_people=random.randint(10, 30)\n",
    "    parties = twfu_parties.sample(total_people)['Name'].to_list()\n",
    "    electoral_people_list = []\n",
    "    electoral_parties = []\n",
    "    for i in range(1, total_people+1):\n",
    "        person = dict(\n",
    "            Name=fake.name() if random.random() < 0.5 else random.choice(twfu_people.Name.tolist()),\n",
    "            Birthdate=fake.iso8601().split('T')[0],\n",
    "            Number=i,\n",
    "            Education=random.choice(['ปริญญาตรี', 'ปริญญาโท', 'ปริญญาเอก', 'ปริญญาจัตวา', 'ด้อกเต้อ', 'อิฟลู']),\n",
    "            ExOccupation=random.choice(occupations + ['สมาชิกสภาผู้แทนราษฎร']),\n",
    "            Party=parties.pop(),\n",
    "            Province=province,\n",
    "            Zone=int(electoral_nums),\n",
    "            Image=(random.choice(image_urls) if random.random() < 0.5 else ''),\n",
    "            PastGovernment=random.random() < 0.1,\n",
    "        )\n",
    "        person['PastOpposition'] = (not person['PastGovernment']) if random.random() < 0.8 else person['PastGovernment']\n",
    "        electoral_parties.append(person['Party'])\n",
    "        people_list.append(person)\n",
    "        electoral_people_list.append(person)\n",
    "\n",
    "    file_path = os.path.join(electoral_dir,f'{province}-{electoral_nums}.json')\n",
    "    electoral_data = dict(People=electoral_people_list,Parties=electoral_parties)\n",
    "\n",
    "    with open(file_path,'w') as fp:\n",
    "        json.dump(electoral_data, fp, ensure_ascii=False)"
   ]
  },
  {
   "cell_type": "code",
   "execution_count": null,
   "metadata": {},
   "outputs": [],
   "source": [
    "# with open('people_list.json', 'w') as fp:\n",
    "#     json.dump(people_list, fp, ensure_ascii=False)\n",
    "with open('parties.json', 'w') as fp:\n",
    "    json.dump(party_dict, fp, ensure_ascii=False)"
   ]
  },
  {
   "cell_type": "code",
   "execution_count": null,
   "metadata": {},
   "outputs": [],
   "source": []
  },
  {
   "cell_type": "code",
   "execution_count": null,
   "metadata": {},
   "outputs": [],
   "source": []
  }
 ],
 "metadata": {
  "kernelspec": {
   "display_name": "Python 3 (ipykernel)",
   "language": "python",
   "name": "python3"
  },
  "language_info": {
   "codemirror_mode": {
    "name": "ipython",
    "version": 3
   },
   "file_extension": ".py",
   "mimetype": "text/x-python",
   "name": "python",
   "nbconvert_exporter": "python",
   "pygments_lexer": "ipython3",
   "version": "3.9.7"
  }
 },
 "nbformat": 4,
 "nbformat_minor": 2
}
