{
 "cells": [
  {
   "cell_type": "markdown",
   "metadata": {},
   "source": [
    "# Electoral district"
   ]
  },
  {
   "cell_type": "code",
   "execution_count": 1,
   "metadata": {},
   "outputs": [],
   "source": [
    "import json\n",
    "import pandas as pd\n",
    "from faker import Faker"
   ]
  },
  {
   "cell_type": "code",
   "execution_count": 2,
   "metadata": {},
   "outputs": [],
   "source": [
    "post_code_df = pd.read_csv('_62_postcode.csv').drop_duplicates(subset=['จังหวัด','อำเภอ'])\n",
    "electoral_district_df = pd.read_csv('66_Vote62_election-zones.csv')"
   ]
  },
  {
   "cell_type": "code",
   "execution_count": 3,
   "metadata": {},
   "outputs": [
    {
     "data": {
      "text/html": [
       "<div>\n",
       "<style scoped>\n",
       "    .dataframe tbody tr th:only-of-type {\n",
       "        vertical-align: middle;\n",
       "    }\n",
       "\n",
       "    .dataframe tbody tr th {\n",
       "        vertical-align: top;\n",
       "    }\n",
       "\n",
       "    .dataframe thead th {\n",
       "        text-align: right;\n",
       "    }\n",
       "</style>\n",
       "<table border=\"1\" class=\"dataframe\">\n",
       "  <thead>\n",
       "    <tr style=\"text-align: right;\">\n",
       "      <th></th>\n",
       "      <th>จังหวัด</th>\n",
       "      <th>อำเภอ</th>\n",
       "      <th>ตำบล</th>\n",
       "      <th>เขตเลือกตั้ง</th>\n",
       "      <th>index</th>\n",
       "      <th>เทศบาล</th>\n",
       "      <th>เขตเลือกตั้ง.1</th>\n",
       "    </tr>\n",
       "  </thead>\n",
       "  <tbody>\n",
       "    <tr>\n",
       "      <th>0</th>\n",
       "      <td>กระบี่</td>\n",
       "      <td>เกาะลันตา</td>\n",
       "      <td>เกาะกลาง</td>\n",
       "      <td>3</td>\n",
       "      <td>กระบี่เกาะลันตาเกาะกลาง</td>\n",
       "      <td>NaN</td>\n",
       "      <td>3</td>\n",
       "    </tr>\n",
       "    <tr>\n",
       "      <th>1</th>\n",
       "      <td>กระบี่</td>\n",
       "      <td>เกาะลันตา</td>\n",
       "      <td>เกาะลันตาน้อย</td>\n",
       "      <td>3</td>\n",
       "      <td>กระบี่เกาะลันตาเกาะลันตาน้อย</td>\n",
       "      <td>NaN</td>\n",
       "      <td>3</td>\n",
       "    </tr>\n",
       "    <tr>\n",
       "      <th>2</th>\n",
       "      <td>กระบี่</td>\n",
       "      <td>เกาะลันตา</td>\n",
       "      <td>เกาะลันตาใหญ่</td>\n",
       "      <td>3</td>\n",
       "      <td>กระบี่เกาะลันตาเกาะลันตาใหญ่</td>\n",
       "      <td>NaN</td>\n",
       "      <td>3</td>\n",
       "    </tr>\n",
       "    <tr>\n",
       "      <th>3</th>\n",
       "      <td>กระบี่</td>\n",
       "      <td>เกาะลันตา</td>\n",
       "      <td>คลองยาง</td>\n",
       "      <td>3</td>\n",
       "      <td>กระบี่เกาะลันตาคลองยาง</td>\n",
       "      <td>NaN</td>\n",
       "      <td>3</td>\n",
       "    </tr>\n",
       "    <tr>\n",
       "      <th>4</th>\n",
       "      <td>กระบี่</td>\n",
       "      <td>เกาะลันตา</td>\n",
       "      <td>ศาลาด่าน</td>\n",
       "      <td>3</td>\n",
       "      <td>กระบี่เกาะลันตาศาลาด่าน</td>\n",
       "      <td>NaN</td>\n",
       "      <td>3</td>\n",
       "    </tr>\n",
       "    <tr>\n",
       "      <th>...</th>\n",
       "      <td>...</td>\n",
       "      <td>...</td>\n",
       "      <td>...</td>\n",
       "      <td>...</td>\n",
       "      <td>...</td>\n",
       "      <td>...</td>\n",
       "      <td>...</td>\n",
       "    </tr>\n",
       "    <tr>\n",
       "      <th>7482</th>\n",
       "      <td>อุบลราชธานี</td>\n",
       "      <td>สิรินธร</td>\n",
       "      <td>ฝางคำ</td>\n",
       "      <td>7</td>\n",
       "      <td>อุบลราชธานีสิรินธรฝางคำ</td>\n",
       "      <td>NaN</td>\n",
       "      <td>7</td>\n",
       "    </tr>\n",
       "    <tr>\n",
       "      <th>7483</th>\n",
       "      <td>อุบลราชธานี</td>\n",
       "      <td>เหล่าเสือโก้ก</td>\n",
       "      <td>แพงใหญ่</td>\n",
       "      <td>3</td>\n",
       "      <td>อุบลราชธานีเหล่าเสือโก้กแพงใหญ่</td>\n",
       "      <td>NaN</td>\n",
       "      <td>3</td>\n",
       "    </tr>\n",
       "    <tr>\n",
       "      <th>7484</th>\n",
       "      <td>อุบลราชธานี</td>\n",
       "      <td>เหล่าเสือโก้ก</td>\n",
       "      <td>โพนเมือง</td>\n",
       "      <td>3</td>\n",
       "      <td>อุบลราชธานีเหล่าเสือโก้กโพนเมือง</td>\n",
       "      <td>NaN</td>\n",
       "      <td>3</td>\n",
       "    </tr>\n",
       "    <tr>\n",
       "      <th>7485</th>\n",
       "      <td>อุบลราชธานี</td>\n",
       "      <td>เหล่าเสือโก้ก</td>\n",
       "      <td>หนองบก</td>\n",
       "      <td>3</td>\n",
       "      <td>อุบลราชธานีเหล่าเสือโก้กหนองบก</td>\n",
       "      <td>NaN</td>\n",
       "      <td>3</td>\n",
       "    </tr>\n",
       "    <tr>\n",
       "      <th>7486</th>\n",
       "      <td>อุบลราชธานี</td>\n",
       "      <td>เหล่าเสือโก้ก</td>\n",
       "      <td>เหล่าเสือโก้ก</td>\n",
       "      <td>3</td>\n",
       "      <td>อุบลราชธานีเหล่าเสือโก้กเหล่าเสือโก้ก</td>\n",
       "      <td>NaN</td>\n",
       "      <td>3</td>\n",
       "    </tr>\n",
       "  </tbody>\n",
       "</table>\n",
       "<p>7487 rows × 7 columns</p>\n",
       "</div>"
      ],
      "text/plain": [
       "          จังหวัด          อำเภอ           ตำบล  เขตเลือกตั้ง  \\\n",
       "0          กระบี่      เกาะลันตา       เกาะกลาง             3   \n",
       "1          กระบี่      เกาะลันตา  เกาะลันตาน้อย             3   \n",
       "2          กระบี่      เกาะลันตา  เกาะลันตาใหญ่             3   \n",
       "3          กระบี่      เกาะลันตา        คลองยาง             3   \n",
       "4          กระบี่      เกาะลันตา       ศาลาด่าน             3   \n",
       "...           ...            ...            ...           ...   \n",
       "7482  อุบลราชธานี        สิรินธร          ฝางคำ             7   \n",
       "7483  อุบลราชธานี  เหล่าเสือโก้ก        แพงใหญ่             3   \n",
       "7484  อุบลราชธานี  เหล่าเสือโก้ก       โพนเมือง             3   \n",
       "7485  อุบลราชธานี  เหล่าเสือโก้ก         หนองบก             3   \n",
       "7486  อุบลราชธานี  เหล่าเสือโก้ก  เหล่าเสือโก้ก             3   \n",
       "\n",
       "                                      index เทศบาล  เขตเลือกตั้ง.1  \n",
       "0                   กระบี่เกาะลันตาเกาะกลาง    NaN               3  \n",
       "1              กระบี่เกาะลันตาเกาะลันตาน้อย    NaN               3  \n",
       "2              กระบี่เกาะลันตาเกาะลันตาใหญ่    NaN               3  \n",
       "3                    กระบี่เกาะลันตาคลองยาง    NaN               3  \n",
       "4                   กระบี่เกาะลันตาศาลาด่าน    NaN               3  \n",
       "...                                     ...    ...             ...  \n",
       "7482                อุบลราชธานีสิรินธรฝางคำ    NaN               7  \n",
       "7483        อุบลราชธานีเหล่าเสือโก้กแพงใหญ่    NaN               3  \n",
       "7484       อุบลราชธานีเหล่าเสือโก้กโพนเมือง    NaN               3  \n",
       "7485         อุบลราชธานีเหล่าเสือโก้กหนองบก    NaN               3  \n",
       "7486  อุบลราชธานีเหล่าเสือโก้กเหล่าเสือโก้ก    NaN               3  \n",
       "\n",
       "[7487 rows x 7 columns]"
      ]
     },
     "execution_count": 3,
     "metadata": {},
     "output_type": "execute_result"
    }
   ],
   "source": [
    "electoral_district_df"
   ]
  },
  {
   "cell_type": "code",
   "execution_count": 4,
   "metadata": {},
   "outputs": [],
   "source": [
    "district_list = list()\n",
    "electdistrict = dict()\n",
    "for g, g_df in electoral_district_df.groupby(['จังหวัด', 'อำเภอ']):\n",
    "    province, district = g\n",
    "    electoral_nums = g_df['เขตเลือกตั้ง.1'].drop_duplicates().astype(int)\n",
    "    districts = g_df['อำเภอ'].drop_duplicates().values\n",
    "\n",
    "    dks = [f'{province}-{el_n}' for el_n in electoral_nums]\n",
    "    \n",
    "    for dk, en in zip(dks, electoral_nums):\n",
    "        d = electdistrict.get(dk, dict(district_list=list(), province=province, electoralDistrictNumber=en))\n",
    "        d['district_list'] += districts.tolist()\n",
    "        electdistrict[dk] = d\n",
    "    for d in districts:\n",
    "        district_list.append(\n",
    "            dict(district=d, province=province, electoral=[dict(fk=fk) for fk in dks]))"
   ]
  },
  {
   "cell_type": "code",
   "execution_count": 5,
   "metadata": {},
   "outputs": [],
   "source": [
    "with open('district_province_list.json', 'w') as fp:\n",
    "    json.dump(district_list, fp, ensure_ascii=False)"
   ]
  },
  {
   "cell_type": "code",
   "execution_count": 6,
   "metadata": {},
   "outputs": [],
   "source": [
    "with open('electoral_district_table.json', 'w') as fp:\n",
    "    json.dump(electdistrict, fp, ensure_ascii=False)"
   ]
  },
  {
   "cell_type": "code",
   "execution_count": null,
   "metadata": {},
   "outputs": [],
   "source": []
  },
  {
   "cell_type": "markdown",
   "metadata": {},
   "source": [
    "# Candidates data"
   ]
  },
  {
   "cell_type": "code",
   "execution_count": 66,
   "metadata": {},
   "outputs": [],
   "source": [
    "import re\n",
    "import requests\n",
    "import os\n",
    "import numpy as np"
   ]
  },
  {
   "cell_type": "code",
   "execution_count": 8,
   "metadata": {},
   "outputs": [],
   "source": [
    "electoral_dir = 'electorals'\n",
    "os.makedirs(electoral_dir, exist_ok=True)"
   ]
  },
  {
   "cell_type": "code",
   "execution_count": 9,
   "metadata": {},
   "outputs": [],
   "source": [
    "candidates_df = pd.read_csv('66_WV_Candidates.csv')\n",
    "party_number_df = pd.read_csv('66_WV_Party.csv')\n",
    "pm_candidates_df = pd.read_csv('66_WV_PMCandidate.csv')\n",
    "twfu_parties=pd.read_csv('./Parties_exported_1.csv').set_index('Id',)\n",
    "twfu_people=pd.read_csv('./People_exported_1.csv')"
   ]
  },
  {
   "cell_type": "code",
   "execution_count": 10,
   "metadata": {},
   "outputs": [],
   "source": [
    "candidates_df.loc[candidates_df.zone.isna(), 'zone'] = -1\n",
    "# change data type\n",
    "candidates_df.loc[:,'zone'] = candidates_df.zone.astype(int)"
   ]
  },
  {
   "cell_type": "code",
   "execution_count": 11,
   "metadata": {},
   "outputs": [],
   "source": [
    "# set party with no number to -1\n",
    "party_number_df.loc[:, 'partylist_no'] = party_number_df.partylist_no.apply(\n",
    "    lambda x: int(x) if str(x).isdigit() else -1)"
   ]
  },
  {
   "cell_type": "code",
   "execution_count": 12,
   "metadata": {},
   "outputs": [],
   "source": [
    "# filter\n",
    "twfu_parties = twfu_parties[twfu_parties.PartyType == 'พรรค']\n",
    "# get url\n",
    "def get_url(s):\n",
    "    if isinstance(s, str):\n",
    "        url = re.sub('.*\\((.*)\\)','\\\\1', s)\n",
    "        if url != 'undefined': return url\n",
    "    return ''\n",
    "twfu_parties.loc[:,'image_url'] = twfu_parties.Images.apply(get_url)"
   ]
  },
  {
   "cell_type": "code",
   "execution_count": 13,
   "metadata": {},
   "outputs": [],
   "source": [
    "# create table\n",
    "party_data = twfu_parties[['image_url', 'Name']].set_index('Name').to_dict()"
   ]
  },
  {
   "cell_type": "code",
   "execution_count": 14,
   "metadata": {},
   "outputs": [],
   "source": [
    "# add number\n",
    "party_data['number'] = party_number_df.set_index('party').to_dict()['partylist_no']"
   ]
  },
  {
   "cell_type": "code",
   "execution_count": 15,
   "metadata": {},
   "outputs": [],
   "source": [
    "# add website\n",
    "party_data['website'] = twfu_parties[~twfu_parties['Website'].isna()][\n",
    "    ['Website', 'Name']].set_index('Name').to_dict()"
   ]
  },
  {
   "cell_type": "code",
   "execution_count": 16,
   "metadata": {},
   "outputs": [],
   "source": [
    "people_image_url = twfu_people.set_index('Name').Images.apply(get_url).to_dict()"
   ]
  },
  {
   "cell_type": "code",
   "execution_count": 17,
   "metadata": {},
   "outputs": [],
   "source": [
    "# add Prime minister candidates\n",
    "party_data['pm_candidates'] = dict()\n",
    "for party, party_df in pm_candidates_df.sort_values('order').groupby('party'):\n",
    "    party_data['pm_candidates'][party] = [{'Name': name,\n",
    "                                           'Image': people_image_url.get(name,'')}\n",
    "                                          for name in party_df.name]"
   ]
  },
  {
   "cell_type": "code",
   "execution_count": 18,
   "metadata": {},
   "outputs": [],
   "source": [
    "# promisetracker party\n",
    "resp = requests.get('https://raw.githubusercontent.com/wevisdemo/promise-tracker/main/data/parties.json')\n",
    "promisetracker_parties = resp.json()"
   ]
  },
  {
   "cell_type": "code",
   "execution_count": 19,
   "metadata": {},
   "outputs": [],
   "source": [
    "party_data['promisetracker_urls'] = dict()\n",
    "for party in promisetracker_parties:\n",
    "    party_name_mabe_many = party['name']\n",
    "    for party_name in party_name_mabe_many.split('/'): # อนาคตใหม่/ก้าวไกล\n",
    "        party_data['promisetracker_urls'][party_name] =\\\n",
    "            'https://promisetracker.wevis.info/explore?party='+party_name_mabe_many"
   ]
  },
  {
   "cell_type": "code",
   "execution_count": 20,
   "metadata": {},
   "outputs": [],
   "source": [
    "# law watch\n",
    "resp = requests.get('https://raw.githubusercontent.com/wevisdemo/law-watch/main/src/data/parties.ts')\n",
    "law_watch_parties_string = re.findall('\\[[^\\]]*\\]', resp.content.decode().replace('\\n',' '))"
   ]
  },
  {
   "cell_type": "code",
   "execution_count": 21,
   "metadata": {},
   "outputs": [],
   "source": [
    "party_data['law_watch_urls'] = dict()\n",
    "for list_string in law_watch_parties_string[:2]:\n",
    "    party_list = json.loads(re.sub('\\'', '\"',list_string))\n",
    "    for party in party_list:\n",
    "        party_data['law_watch_urls'][party] = 'https://wevis.info/law-watch#investigate-section'"
   ]
  },
  {
   "cell_type": "code",
   "execution_count": 22,
   "metadata": {},
   "outputs": [],
   "source": [
    "# They work for us\n",
    "# if the party has ever been a government or opposition\n",
    "theyworkforus_parties = twfu_parties[~twfu_parties.PartyGroup.isna()].Name.tolist()\n",
    "party_data['theyworkforus_urls'] = {party: f'https://theyworkforus.wevis.info/party/{party}'\n",
    "                                for party in theyworkforus_parties}"
   ]
  },
  {
   "cell_type": "code",
   "execution_count": 23,
   "metadata": {},
   "outputs": [],
   "source": [
    "people_party_history_ep = (\n",
    "    'https://sheets.wevis.info/api/v1/db/public/shared-view/'\n",
    "    '572c5e5c-a3d8-440f-9a70-3c4c773543ec'\n",
    "    '/rows'\n",
    "    '?'\n",
    "    'nested[PeoplePartyHistory][fields]=Party,EstablishedDate'\n",
    "    '&'\n",
    "    'f=Name,PeoplePartyHistory,Id'\n",
    "    '&'\n",
    "    'l=900')\n",
    "resp = requests.get(people_party_history_ep)\n",
    "people_history_table = resp.json()['data']['list']"
   ]
  },
  {
   "cell_type": "code",
   "execution_count": 24,
   "metadata": {},
   "outputs": [],
   "source": [
    "DISSOVED_DATE = '2023-03-01'"
   ]
  },
  {
   "cell_type": "code",
   "execution_count": 41,
   "metadata": {},
   "outputs": [],
   "source": [
    "person_is_government = dict()\n",
    "person_is_opposition = dict()\n",
    "for person in people_history_table:\n",
    "    for party in person['PeoplePartyHistory']:\n",
    "        if party['EstablishedDate'] is not None and (party['EstablishedDate'] > DISSOVED_DATE):\n",
    "            person['PeoplePartyHistory'].remove(party)\n",
    "        else:\n",
    "            party_id = party['Party']['Id']\n",
    "            if party_id in twfu_parties.index:\n",
    "                party_group = twfu_parties.loc[party_id].PartyGroup\n",
    "                person_is_government[person['Name']] =\\\n",
    "                    person_is_government.get(person['Name'], False) or (party_group == 'ร่วมรัฐบาล')\n",
    "                person_is_opposition[person['Name']] =\\\n",
    "                    person_is_opposition.get(person['Name'], False) or (party_group == 'ฝ่ายค้าน')"
   ]
  },
  {
   "cell_type": "code",
   "execution_count": 44,
   "metadata": {
    "scrolled": false
   },
   "outputs": [],
   "source": [
    "party_data['is_government'] = (twfu_parties[~twfu_parties['PartyGroup'].isna()]\\\n",
    "                                .set_index('Name')['PartyGroup'] == 'ร่วมรัฐบาล')\\\n",
    "                                .to_dict()\n",
    "party_data['is_opposition'] = (twfu_parties[~twfu_parties['PartyGroup'].isna()]\n",
    "                               .set_index('Name')['PartyGroup'] == 'ฝ่ายค้าน')\\\n",
    "                                .to_dict()"
   ]
  },
  {
   "cell_type": "code",
   "execution_count": 81,
   "metadata": {},
   "outputs": [
    {
     "data": {
      "text/plain": [
       "'1954-03-21'"
      ]
     },
     "execution_count": 81,
     "metadata": {},
     "output_type": "execute_result"
    }
   ],
   "source": [
    "twfu_people.set_index('Name')[['Birthdate','Education','ExOccupation0']].loc['ประยุทธ์ จันทร์โอชา','Birthdate']"
   ]
  },
  {
   "cell_type": "code",
   "execution_count": 90,
   "metadata": {},
   "outputs": [],
   "source": [
    "person_table_name_as_index = twfu_people.set_index('Name')"
   ]
  },
  {
   "cell_type": "code",
   "execution_count": 91,
   "metadata": {},
   "outputs": [],
   "source": [
    "def data_getter(key, person_name):\n",
    "    try:\n",
    "        return person_table_name_as_index[~person_table_name_as_index[key].isna()].loc[person_name, key]\n",
    "    except KeyError:\n",
    "        return None"
   ]
  },
  {
   "cell_type": "code",
   "execution_count": 92,
   "metadata": {},
   "outputs": [],
   "source": [
    "people_list = []\n",
    "party_table = dict()\n",
    "for i, row in candidates_df.iterrows():\n",
    "    if row.party not in party_table.keys():\n",
    "        party_table[row.party] = dict(\n",
    "            Name=row.party,\n",
    "            Number=party_data['number'][row.party],\n",
    "            Image=party_data['image_url'].get(row.party),\n",
    "            Candidate=party_data['pm_candidates'].get(row.party, []),\n",
    "            PastGovernment=party_data['is_government'].get(row.party, False),\n",
    "            PastOpposition=party_data['is_opposition'].get(row.party, False),\n",
    "            # TODO: fix this on production\n",
    "            Policy=f'https://staging.election66.wevis.info/policyshop/party/{row.party}',\n",
    "            Promise=party_data['promisetracker_urls'].get(row.party),\n",
    "            Law=party_data['law_watch_urls'].get(row.party),\n",
    "            Others=party_data['theyworkforus_urls'].get(row.party),\n",
    "            Website=party_data['website'].get(row.party),\n",
    "            PartyList=list()\n",
    "        )\n",
    "    is_past_mp = person_is_government.get(row['name'], False) or person_is_opposition.get(row['name'], False)\n",
    "    if row.mptype == 'เขต':\n",
    "        people_list.append(dict(\n",
    "            Name=row['name'],\n",
    "            Number=row['number'],\n",
    "            Birthdate=data_getter('Birthdate', row['name']),\n",
    "            Education=data_getter('Education', row['name']),\n",
    "            ExOccupation=data_getter('ExOccupation0', row['name']),\n",
    "            Party=row.party,\n",
    "            Province=row.province,\n",
    "            Zone=row.zone,\n",
    "            Image=people_image_url.get(row['name']),\n",
    "            PastMP=is_past_mp,\n",
    "            PastGovernment=person_is_government.get(row['name'], False),\n",
    "            PastOpposition=person_is_opposition.get(row['name'], False),\n",
    "        ))\n",
    "    elif row.mptype == 'บัญชีรายชื่อ':\n",
    "        party_table[row.party]['PartyList'].append(dict(\n",
    "            Name=row['name'],\n",
    "            Number=row.number,\n",
    "            PastMP=is_past_mp,\n",
    "            # PastGovernment=person_is_government.get(row['name'], False),\n",
    "            # PastOpposition=person_is_opposition.get(row['name'], False),\n",
    "        ))"
   ]
  },
  {
   "cell_type": "code",
   "execution_count": 93,
   "metadata": {},
   "outputs": [],
   "source": [
    "for dist_key, district in electdistrict.items():\n",
    "    electoral_people_list = [p for p in people_list\n",
    "                             if p['Province'] == district['province'] # filter out\n",
    "                             and p['Zone'] == district['electoralDistrictNumber']]\n",
    "    \n",
    "    electoral_parties = [p['Party'] for p in electoral_people_list if p['Number'] != -1]\n",
    "    electoral_parties.sort(key=lambda p: party_table[p]['Number'])\n",
    "    file_path = os.path.join(electoral_dir,f'{dist_key}.json')\n",
    "    electoral_data = dict(People=electoral_people_list,\n",
    "                          Parties=electoral_parties)\n",
    "    \n",
    "    with open(file_path,'w') as fp:\n",
    "        json.dump(electoral_data, fp, ensure_ascii=False)"
   ]
  },
  {
   "cell_type": "code",
   "execution_count": 94,
   "metadata": {},
   "outputs": [],
   "source": [
    "with open('parties.json', 'w') as fp:\n",
    "    json.dump(party_table, fp, ensure_ascii=False)"
   ]
  },
  {
   "cell_type": "code",
   "execution_count": null,
   "metadata": {},
   "outputs": [],
   "source": []
  }
 ],
 "metadata": {
  "kernelspec": {
   "display_name": "Python 3 (ipykernel)",
   "language": "python",
   "name": "python3"
  },
  "language_info": {
   "codemirror_mode": {
    "name": "ipython",
    "version": 3
   },
   "file_extension": ".py",
   "mimetype": "text/x-python",
   "name": "python",
   "nbconvert_exporter": "python",
   "pygments_lexer": "ipython3",
   "version": "3.9.7"
  }
 },
 "nbformat": 4,
 "nbformat_minor": 2
}
