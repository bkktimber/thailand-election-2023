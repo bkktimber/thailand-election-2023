{
 "cells": [
  {
   "cell_type": "code",
   "execution_count": null,
   "metadata": {},
   "outputs": [],
   "source": [
    "# Mocking data for dev"
   ]
  },
  {
   "cell_type": "code",
   "execution_count": null,
   "metadata": {},
   "outputs": [],
   "source": [
    "import json\n",
    "import pandas as pd"
   ]
  },
  {
   "cell_type": "code",
   "execution_count": null,
   "metadata": {},
   "outputs": [],
   "source": [
    "post_code_df = pd.read_csv('_62_postcode.csv').drop_duplicates(subset=['จังหวัด','อำเภอ'])\n",
    "electoral_district_df = pd.read_csv('_62_electzone_processed.csv', index_col=0)"
   ]
  },
  {
   "cell_type": "code",
   "execution_count": null,
   "metadata": {},
   "outputs": [],
   "source": [
    "electoral_district_df"
   ]
  },
  {
   "cell_type": "code",
   "execution_count": null,
   "metadata": {},
   "outputs": [],
   "source": [
    "district_list = list()\n",
    "electdistrict = dict()\n",
    "for g, g_df in electoral_district_df.groupby(['จังหวัด', 'ท้องที่ที่ประกอบเป็นเขตเลือกตั้ง']):\n",
    "    province, district = g\n",
    "    electoral_nums = g_df['เขตเลือกตั้งที่'].drop_duplicates().astype(int)\n",
    "    districts = g_df['ท้องที่ที่ประกอบเป็นเขตเลือกตั้ง'].drop_duplicates().values\n",
    "    if 'ทั้งจังหวัด' in districts:\n",
    "        districts = post_code_df[post_code_df['จังหวัด'] == province]['อำเภอ'].values\n",
    "    dks = [f'{province}-{el_n}' for el_n in electoral_nums]\n",
    "    for dk, en in zip(dks, electoral_nums):\n",
    "        d = electdistrict.get(dk, dict(district_list=list(), province=province, electoralDistrictNumber=en))\n",
    "        d['district_list'] += districts.tolist()\n",
    "        electdistrict[dk] = d\n",
    "    for d in districts:\n",
    "        district_list.append(\n",
    "            dict(district=d, province=province, electoral=[dict(fk=fk) for fk in dks]))"
   ]
  },
  {
   "cell_type": "code",
   "execution_count": null,
   "metadata": {},
   "outputs": [],
   "source": [
    "electdistrict"
   ]
  },
  {
   "cell_type": "code",
   "execution_count": null,
   "metadata": {},
   "outputs": [],
   "source": [
    "district_list"
   ]
  },
  {
   "cell_type": "code",
   "execution_count": null,
   "metadata": {},
   "outputs": [],
   "source": [
    "with open('district_province_list.json', 'w') as fp:\n",
    "    json.dump(district_list, fp, ensure_ascii=False)"
   ]
  },
  {
   "cell_type": "code",
   "execution_count": null,
   "metadata": {},
   "outputs": [],
   "source": [
    "with open('electoral_district_table.json', 'w') as fp:\n",
    "    json.dump(electdistrict, fp, ensure_ascii=False)"
   ]
  },
  {
   "cell_type": "code",
   "execution_count": null,
   "metadata": {},
   "outputs": [],
   "source": []
  }
 ],
 "metadata": {
  "kernelspec": {
   "display_name": "Python 3 (ipykernel)",
   "language": "python",
   "name": "python3"
  },
  "language_info": {
   "codemirror_mode": {
    "name": "ipython",
    "version": 3
   },
   "file_extension": ".py",
   "mimetype": "text/x-python",
   "name": "python",
   "nbconvert_exporter": "python",
   "pygments_lexer": "ipython3",
   "version": "3.9.7"
  }
 },
 "nbformat": 4,
 "nbformat_minor": 2
}
