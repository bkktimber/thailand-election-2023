{
 "cells": [
  {
   "cell_type": "code",
   "execution_count": 1,
   "metadata": {},
   "outputs": [],
   "source": [
    "# Mocking data for dev"
   ]
  },
  {
   "cell_type": "code",
   "execution_count": 2,
   "metadata": {},
   "outputs": [],
   "source": [
    "import json\n",
    "import pandas as pd\n",
    "from faker import Faker"
   ]
  },
  {
   "cell_type": "code",
   "execution_count": 3,
   "metadata": {},
   "outputs": [],
   "source": [
    "post_code_df = pd.read_csv('_62_postcode.csv').drop_duplicates(subset=['จังหวัด','อำเภอ'])\n",
    "electoral_district_df = pd.read_csv('_62_electzone_processed.csv', index_col=0)"
   ]
  },
  {
   "cell_type": "code",
   "execution_count": 4,
   "metadata": {},
   "outputs": [
    {
     "data": {
      "text/html": [
       "<div>\n",
       "<style scoped>\n",
       "    .dataframe tbody tr th:only-of-type {\n",
       "        vertical-align: middle;\n",
       "    }\n",
       "\n",
       "    .dataframe tbody tr th {\n",
       "        vertical-align: top;\n",
       "    }\n",
       "\n",
       "    .dataframe thead th {\n",
       "        text-align: right;\n",
       "    }\n",
       "</style>\n",
       "<table border=\"1\" class=\"dataframe\">\n",
       "  <thead>\n",
       "    <tr style=\"text-align: right;\">\n",
       "      <th></th>\n",
       "      <th>จังหวัด</th>\n",
       "      <th>จำนวนสมาชิกสภาผู้แทนราษฎร</th>\n",
       "      <th>จำนวนเขตเลือกตั้ง</th>\n",
       "      <th>ท้องที่ที่ประกอบเป็นเขตเลือกตั้ง</th>\n",
       "      <th>ลำดับที่</th>\n",
       "      <th>เขตเลือกตั้งที่</th>\n",
       "      <th>interior</th>\n",
       "      <th>exterior</th>\n",
       "      <th>subinterior</th>\n",
       "    </tr>\n",
       "  </thead>\n",
       "  <tbody>\n",
       "    <tr>\n",
       "      <th>0</th>\n",
       "      <td>ตราด</td>\n",
       "      <td>1</td>\n",
       "      <td>1</td>\n",
       "      <td>ทั้งจังหวัด</td>\n",
       "      <td>1</td>\n",
       "      <td>1</td>\n",
       "      <td>NaN</td>\n",
       "      <td>NaN</td>\n",
       "      <td>NaN</td>\n",
       "    </tr>\n",
       "    <tr>\n",
       "      <th>1</th>\n",
       "      <td>นครนายก</td>\n",
       "      <td>1</td>\n",
       "      <td>1</td>\n",
       "      <td>ทั้งจังหวัด</td>\n",
       "      <td>2</td>\n",
       "      <td>1</td>\n",
       "      <td>NaN</td>\n",
       "      <td>NaN</td>\n",
       "      <td>NaN</td>\n",
       "    </tr>\n",
       "    <tr>\n",
       "      <th>2</th>\n",
       "      <td>พังงา</td>\n",
       "      <td>1</td>\n",
       "      <td>1</td>\n",
       "      <td>ทั้งจังหวัด</td>\n",
       "      <td>3</td>\n",
       "      <td>1</td>\n",
       "      <td>NaN</td>\n",
       "      <td>NaN</td>\n",
       "      <td>NaN</td>\n",
       "    </tr>\n",
       "    <tr>\n",
       "      <th>3</th>\n",
       "      <td>แม่ฮ่องสอน</td>\n",
       "      <td>1</td>\n",
       "      <td>1</td>\n",
       "      <td>ทั้งจังหวัด</td>\n",
       "      <td>4</td>\n",
       "      <td>1</td>\n",
       "      <td>NaN</td>\n",
       "      <td>NaN</td>\n",
       "      <td>NaN</td>\n",
       "    </tr>\n",
       "    <tr>\n",
       "      <th>4</th>\n",
       "      <td>ระนอง</td>\n",
       "      <td>1</td>\n",
       "      <td>1</td>\n",
       "      <td>ทั้งจังหวัด</td>\n",
       "      <td>5</td>\n",
       "      <td>1</td>\n",
       "      <td>NaN</td>\n",
       "      <td>NaN</td>\n",
       "      <td>NaN</td>\n",
       "    </tr>\n",
       "    <tr>\n",
       "      <th>...</th>\n",
       "      <td>...</td>\n",
       "      <td>...</td>\n",
       "      <td>...</td>\n",
       "      <td>...</td>\n",
       "      <td>...</td>\n",
       "      <td>...</td>\n",
       "      <td>...</td>\n",
       "      <td>...</td>\n",
       "      <td>...</td>\n",
       "    </tr>\n",
       "    <tr>\n",
       "      <th>1754</th>\n",
       "      <td>กรุงเทพมหานคร</td>\n",
       "      <td>30</td>\n",
       "      <td>30</td>\n",
       "      <td>ภาษีเจริญ</td>\n",
       "      <td>77</td>\n",
       "      <td>29</td>\n",
       "      <td>NaN</td>\n",
       "      <td>NaN</td>\n",
       "      <td>NaN</td>\n",
       "    </tr>\n",
       "    <tr>\n",
       "      <th>1755</th>\n",
       "      <td>กรุงเทพมหานคร</td>\n",
       "      <td>30</td>\n",
       "      <td>30</td>\n",
       "      <td>ตลิ่งชัน</td>\n",
       "      <td>77</td>\n",
       "      <td>29</td>\n",
       "      <td>NaN</td>\n",
       "      <td>ตลิ่งชัน</td>\n",
       "      <td>NaN</td>\n",
       "    </tr>\n",
       "    <tr>\n",
       "      <th>1756</th>\n",
       "      <td>กรุงเทพมหานคร</td>\n",
       "      <td>30</td>\n",
       "      <td>30</td>\n",
       "      <td>ตลิ่งชัน</td>\n",
       "      <td>77</td>\n",
       "      <td>29</td>\n",
       "      <td>NaN</td>\n",
       "      <td>ฉิมพลี</td>\n",
       "      <td>NaN</td>\n",
       "    </tr>\n",
       "    <tr>\n",
       "      <th>1757</th>\n",
       "      <td>กรุงเทพมหานคร</td>\n",
       "      <td>30</td>\n",
       "      <td>30</td>\n",
       "      <td>บางพลัด</td>\n",
       "      <td>77</td>\n",
       "      <td>30</td>\n",
       "      <td>NaN</td>\n",
       "      <td>NaN</td>\n",
       "      <td>NaN</td>\n",
       "    </tr>\n",
       "    <tr>\n",
       "      <th>1758</th>\n",
       "      <td>กรุงเทพมหานคร</td>\n",
       "      <td>30</td>\n",
       "      <td>30</td>\n",
       "      <td>บางกอกน้อย</td>\n",
       "      <td>77</td>\n",
       "      <td>30</td>\n",
       "      <td>NaN</td>\n",
       "      <td>NaN</td>\n",
       "      <td>NaN</td>\n",
       "    </tr>\n",
       "  </tbody>\n",
       "</table>\n",
       "<p>1759 rows × 9 columns</p>\n",
       "</div>"
      ],
      "text/plain": [
       "            จังหวัด  จำนวนสมาชิกสภาผู้แทนราษฎร  จำนวนเขตเลือกตั้ง  \\\n",
       "0              ตราด                          1                  1   \n",
       "1           นครนายก                          1                  1   \n",
       "2             พังงา                          1                  1   \n",
       "3        แม่ฮ่องสอน                          1                  1   \n",
       "4             ระนอง                          1                  1   \n",
       "...             ...                        ...                ...   \n",
       "1754  กรุงเทพมหานคร                         30                 30   \n",
       "1755  กรุงเทพมหานคร                         30                 30   \n",
       "1756  กรุงเทพมหานคร                         30                 30   \n",
       "1757  กรุงเทพมหานคร                         30                 30   \n",
       "1758  กรุงเทพมหานคร                         30                 30   \n",
       "\n",
       "     ท้องที่ที่ประกอบเป็นเขตเลือกตั้ง  ลำดับที่  เขตเลือกตั้งที่ interior  \\\n",
       "0                         ทั้งจังหวัด         1                1      NaN   \n",
       "1                         ทั้งจังหวัด         2                1      NaN   \n",
       "2                         ทั้งจังหวัด         3                1      NaN   \n",
       "3                         ทั้งจังหวัด         4                1      NaN   \n",
       "4                         ทั้งจังหวัด         5                1      NaN   \n",
       "...                               ...       ...              ...      ...   \n",
       "1754                        ภาษีเจริญ        77               29      NaN   \n",
       "1755                         ตลิ่งชัน        77               29      NaN   \n",
       "1756                         ตลิ่งชัน        77               29      NaN   \n",
       "1757                          บางพลัด        77               30      NaN   \n",
       "1758                       บางกอกน้อย        77               30      NaN   \n",
       "\n",
       "      exterior subinterior  \n",
       "0          NaN         NaN  \n",
       "1          NaN         NaN  \n",
       "2          NaN         NaN  \n",
       "3          NaN         NaN  \n",
       "4          NaN         NaN  \n",
       "...        ...         ...  \n",
       "1754       NaN         NaN  \n",
       "1755  ตลิ่งชัน         NaN  \n",
       "1756    ฉิมพลี         NaN  \n",
       "1757       NaN         NaN  \n",
       "1758       NaN         NaN  \n",
       "\n",
       "[1759 rows x 9 columns]"
      ]
     },
     "execution_count": 4,
     "metadata": {},
     "output_type": "execute_result"
    }
   ],
   "source": [
    "electoral_district_df"
   ]
  },
  {
   "cell_type": "code",
   "execution_count": 5,
   "metadata": {},
   "outputs": [],
   "source": [
    "district_list = list()\n",
    "electdistrict = dict()\n",
    "for g, g_df in electoral_district_df.groupby(['จังหวัด', 'ท้องที่ที่ประกอบเป็นเขตเลือกตั้ง']):\n",
    "    province, district = g\n",
    "    electoral_nums = g_df['เขตเลือกตั้งที่'].drop_duplicates().astype(int)\n",
    "    districts = g_df['ท้องที่ที่ประกอบเป็นเขตเลือกตั้ง'].drop_duplicates().values\n",
    "    if 'ทั้งจังหวัด' in districts:\n",
    "        districts = post_code_df[post_code_df['จังหวัด'] == province]['อำเภอ'].values\n",
    "    dks = [f'{province}-{el_n}' for el_n in electoral_nums]\n",
    "    for dk, en in zip(dks, electoral_nums):\n",
    "        d = electdistrict.get(dk, dict(district_list=list(), province=province, electoralDistrictNumber=en))\n",
    "        d['district_list'] += districts.tolist()\n",
    "        electdistrict[dk] = d\n",
    "    for d in districts:\n",
    "        district_list.append(\n",
    "            dict(district=d, province=province, electoral=[dict(fk=fk) for fk in dks]))"
   ]
  },
  {
   "cell_type": "code",
   "execution_count": 6,
   "metadata": {},
   "outputs": [],
   "source": [
    "with open('district_province_list.json', 'w') as fp:\n",
    "    json.dump(district_list, fp, ensure_ascii=False)"
   ]
  },
  {
   "cell_type": "code",
   "execution_count": 7,
   "metadata": {},
   "outputs": [],
   "source": [
    "with open('electoral_district_table.json', 'w') as fp:\n",
    "    json.dump(electdistrict, fp, ensure_ascii=False)"
   ]
  },
  {
   "cell_type": "code",
   "execution_count": 8,
   "metadata": {},
   "outputs": [],
   "source": [
    "import random\n",
    "import re\n",
    "fake = Faker('th')"
   ]
  },
  {
   "cell_type": "code",
   "execution_count": 9,
   "metadata": {},
   "outputs": [],
   "source": [
    "twfu_people=pd.read_csv('./_People_table_exported.csv')\n",
    "twfu_parties=pd.read_csv('./_Parties_table_exported.csv')"
   ]
  },
  {
   "cell_type": "code",
   "execution_count": 55,
   "metadata": {},
   "outputs": [],
   "source": [
    "twfu_parties = twfu_parties[(twfu_parties.PartyType == 'พรรค') & (~twfu_parties.Images.isna())]"
   ]
  },
  {
   "cell_type": "code",
   "execution_count": 56,
   "metadata": {},
   "outputs": [],
   "source": [
    "image_urls = twfu_people[~twfu_people.Images.isna()].Images.apply(lambda x: re.sub('.*\\((.*)\\)','\\\\1',x)).tolist()\n",
    "occupations = twfu_people[~twfu_people.ExOccupation0.isna()].ExOccupation0.unique().astype(str).tolist()"
   ]
  },
  {
   "cell_type": "code",
   "execution_count": 57,
   "metadata": {},
   "outputs": [
    {
     "data": {
      "text/plain": [
       "{str}"
      ]
     },
     "execution_count": 57,
     "metadata": {},
     "output_type": "execute_result"
    }
   ],
   "source": [
    "set([type(i) for i in image_urls])"
   ]
  },
  {
   "cell_type": "code",
   "execution_count": 67,
   "metadata": {},
   "outputs": [],
   "source": [
    "people_list = []\n",
    "for (province, electoral_nums), g_df in electoral_district_df.groupby(['จังหวัด', 'เขตเลือกตั้งที่']):\n",
    "    is_in_province = twfu_people['MpProvince'] == province\n",
    "    total_people=random.randint(10, 30)\n",
    "    parties = twfu_parties.sample(total_people)['Name'].to_list()\n",
    "    for i in range(1, total_people+1):\n",
    "        person = dict(\n",
    "            Name=random.choice(twfu_people.Name.tolist()),\n",
    "            Birthdate=fake.iso8601().split('T')[0],\n",
    "            Number=i,\n",
    "            Education=random.choice(['ปริญญาโท', 'ปริญญาเอก', 'ปริญญาจัตวา', 'ด้อกเต้อ']),\n",
    "            ExOccupation=random.choice(occupations[:5] + ['สมาชิกสภาผู้แทนราษฎร']),\n",
    "            Party=parties.pop(),\n",
    "            Province=province,\n",
    "            Zone=int(electoral_nums),\n",
    "            Image=(random.choice(image_urls) if random.random() < 0.7 else '')\n",
    "        )\n",
    "        people_list.append(person)"
   ]
  },
  {
   "cell_type": "code",
   "execution_count": 70,
   "metadata": {},
   "outputs": [],
   "source": [
    "party_list = []\n",
    "total_party = (twfu_parties.PartyType == 'พรรค').sum()\n",
    "party_number = list(range(1, total_party+1))\n",
    "random.shuffle(party_number)\n",
    "for i,party in twfu_parties[twfu_parties.PartyType == 'พรรค'].iterrows():\n",
    "    candiate_temp = []\n",
    "    for i in range(random.randint(1,3)):\n",
    "        candiate_temp.append(dict(Name=fake.name(), Image=random.choice(image_urls)))\n",
    "    party_list.append(\n",
    "        dict(Number=party_number.pop(),\n",
    "             Image=re.sub('.*\\((.*)\\)','\\\\1', party.Images) if isinstance(party.Images, str) else '',\n",
    "             Name=party.Name,\n",
    "             PartyGroup=random.choice(['ฝ่ายค้าน', 'ฝ่ายรัฐบาล', 'ทั้งฝ่ายรัฐบาลและฝ่ายค้าน']),\n",
    "             Candidate=candiate_temp,\n",
    "             PartyList=[dict(Name=fake.name()) for _ in range(100)],\n",
    "             Policy='',\n",
    "             Promise='',\n",
    "             Law='',\n",
    "             Others='',\n",
    "             Website=party.Website if isinstance(party.Website, str) else ''\n",
    "            ))"
   ]
  },
  {
   "cell_type": "code",
   "execution_count": 71,
   "metadata": {},
   "outputs": [],
   "source": [
    "with open('people_list.json', 'w') as fp:\n",
    "    json.dump(people_list, fp, ensure_ascii=False)\n",
    "with open('parties.json', 'w') as fp:\n",
    "    json.dump(party_list, fp, ensure_ascii=False)"
   ]
  },
  {
   "cell_type": "code",
   "execution_count": null,
   "metadata": {},
   "outputs": [],
   "source": []
  },
  {
   "cell_type": "code",
   "execution_count": null,
   "metadata": {},
   "outputs": [],
   "source": []
  }
 ],
 "metadata": {
  "kernelspec": {
   "display_name": "Python 3 (ipykernel)",
   "language": "python",
   "name": "python3"
  },
  "language_info": {
   "codemirror_mode": {
    "name": "ipython",
    "version": 3
   },
   "file_extension": ".py",
   "mimetype": "text/x-python",
   "name": "python",
   "nbconvert_exporter": "python",
   "pygments_lexer": "ipython3",
   "version": "3.9.7"
  }
 },
 "nbformat": 4,
 "nbformat_minor": 2
}
