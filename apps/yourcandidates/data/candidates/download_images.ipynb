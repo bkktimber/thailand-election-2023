{
 "cells": [
  {
   "cell_type": "code",
   "execution_count": 1,
   "id": "061c11da",
   "metadata": {},
   "outputs": [],
   "source": [
    "import json"
   ]
  },
  {
   "cell_type": "markdown",
   "id": "e3ede6ab",
   "metadata": {},
   "source": [
    "# ภูมิใจไทย"
   ]
  },
  {
   "cell_type": "code",
   "execution_count": 5,
   "id": "6d2e2d56",
   "metadata": {},
   "outputs": [],
   "source": [
    "with open('./bhumjai-thai.json') as fp:\n",
    "    data = json.load(fp)['posts']"
   ]
  },
  {
   "cell_type": "code",
   "execution_count": 23,
   "id": "b5d72979",
   "metadata": {
    "scrolled": false
   },
   "outputs": [
    {
     "name": "stdout",
     "output_type": "stream",
     "text": [
      "{'first_name': 'นางสกุลรัตน์', 'last_name': 'ทิพย์วรรณงาม', 'candidate_number': '3', 'is_party_list': False, 'bio': '', 'image': {'ID': 85337, 'id': 85337, 'title': 'IMG_9641', 'filename': 'IMG_9641.jpg', 'filesize': 34426, 'url': 'https://admin.bhumjaithai.com/wp-content/uploads/2023/04/IMG_9641.jpg', 'link': 'https://admin.bhumjaithai.com/candidate_2023/%e0%b8%99%e0%b8%b2%e0%b8%87%e0%b8%aa%e0%b8%b2%e0%b8%a7%e0%b8%9e%e0%b8%b1%e0%b8%8a%e0%b8%a3%e0%b8%b4%e0%b8%99%e0%b8%97%e0%b8%a3%e0%b9%8c-%e0%b8%8b%e0%b8%b3%e0%b8%a8%e0%b8%b4%e0%b8%a3%e0%b8%b4%e0%b8%9e/img_9641/', 'alt': '', 'author': '29', 'description': '', 'caption': '', 'name': 'img_9641', 'status': 'inherit', 'uploaded_to': 85260, 'date': '2023-04-03 07:08:47', 'modified': '2023-04-03 07:08:47', 'menu_order': 0, 'mime_type': 'image/jpeg', 'type': 'image', 'subtype': 'jpeg', 'icon': 'https://admin.bhumjaithai.com/wp-includes/images/media/default.png', 'width': 720, 'height': 720, 'sizes': {'thumbnail': 'https://admin.bhumjaithai.com/wp-content/uploads/2023/04/IMG_9641-150x150.jpg', 'thumbnail-width': 150, 'thumbnail-height': 150, 'medium': 'https://admin.bhumjaithai.com/wp-content/uploads/2023/04/IMG_9641-300x300.jpg', 'medium-width': 300, 'medium-height': 300, 'medium_large': 'https://admin.bhumjaithai.com/wp-content/uploads/2023/04/IMG_9641.jpg', 'medium_large-width': 720, 'medium_large-height': 720, 'large': 'https://admin.bhumjaithai.com/wp-content/uploads/2023/04/IMG_9641.jpg', 'large-width': 720, 'large-height': 720}}, 'province': {'value': '1', 'label': 'กรุงเทพมหานคร'}, 'district': '21', 'is_councilor': False}\n"
     ]
    }
   ],
   "source": [
    "for candidate in data:\n",
    "    candidate = candidate['acf']\n",
    "    electoral_key = candidate['province']['label'] + '-' + candidate['district']\n",
    "    print(candidate)\n",
    "    fp = open('../electorals/'+electoral_key+'.json')\n",
    "    electoral_data = json.load(fp)\n",
    "    fp.close()\n",
    "    break"
   ]
  },
  {
   "cell_type": "code",
   "execution_count": 21,
   "id": "17015e44",
   "metadata": {},
   "outputs": [],
   "source": [
    "for person in electoral_data['People']:\n",
    "    if person['Party'] == 'ภูมิใจไทย':\n",
    "        break"
   ]
  },
  {
   "cell_type": "code",
   "execution_count": 22,
   "id": "f9d9e9de",
   "metadata": {},
   "outputs": [
    {
     "data": {
      "text/plain": [
       "{'Name': 'สกุลรัตน์ ทิพย์วรรณงาม',\n",
       " 'Number': 3,\n",
       " 'Birthdate': None,\n",
       " 'Education': None,\n",
       " 'ExOccupation': None,\n",
       " 'Party': 'ภูมิใจไทย',\n",
       " 'Province': 'กรุงเทพมหานคร',\n",
       " 'Zone': 21,\n",
       " 'Image': None,\n",
       " 'PastMP': False,\n",
       " 'PastGovernment': False,\n",
       " 'PastOpposition': False}"
      ]
     },
     "execution_count": 22,
     "metadata": {},
     "output_type": "execute_result"
    }
   ],
   "source": [
    "person"
   ]
  },
  {
   "cell_type": "code",
   "execution_count": null,
   "id": "26d47c91",
   "metadata": {},
   "outputs": [],
   "source": []
  }
 ],
 "metadata": {
  "kernelspec": {
   "display_name": "Python 3 (ipykernel)",
   "language": "python",
   "name": "python3"
  },
  "language_info": {
   "codemirror_mode": {
    "name": "ipython",
    "version": 3
   },
   "file_extension": ".py",
   "mimetype": "text/x-python",
   "name": "python",
   "nbconvert_exporter": "python",
   "pygments_lexer": "ipython3",
   "version": "3.9.7"
  }
 },
 "nbformat": 4,
 "nbformat_minor": 5
}
