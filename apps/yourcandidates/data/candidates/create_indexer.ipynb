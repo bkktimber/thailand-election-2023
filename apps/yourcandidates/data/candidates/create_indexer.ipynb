{
 "cells": [
  {
   "cell_type": "code",
   "execution_count": 40,
   "id": "e84a3a59",
   "metadata": {},
   "outputs": [],
   "source": [
    "import json\n",
    "import os"
   ]
  },
  {
   "cell_type": "code",
   "execution_count": 42,
   "id": "572658b3",
   "metadata": {},
   "outputs": [],
   "source": [
    "# find every file in `electoral` directory\n",
    "electoral_data_files = [os.path.join('../electorals/', f) for f in os.listdir('../electorals/')]"
   ]
  },
  {
   "cell_type": "markdown",
   "id": "d339a50f",
   "metadata": {},
   "source": [
    "## Create a candidate indexer\n",
    "\n",
    "This code creates a dictionary that maps candidate names to their images.\n"
   ]
  },
  {
   "cell_type": "code",
   "execution_count": 67,
   "id": "6b4e0a64",
   "metadata": {},
   "outputs": [],
   "source": [
    "candidate_indexer = {}\n",
    "for fpath in electoral_data_files:\n",
    "    # Open the electoral data file at the path `fpath` and load the JSON data into the variable `data`.\n",
    "    with open(fpath) as fp: data = json.load(fp)\n",
    "    # Iterate over the list of candidates in the JSON data.\n",
    "    for candidate in data['People']:\n",
    "        # Check if the `Image` key in the candidate's dictionary is valid\n",
    "        # and if it starts with a forward slash (local files).\n",
    "        if isinstance(candidate['Image'], str) and candidate['Image'].startswith('/'):\n",
    "            assert candidate['Name'] not in candidate_indexer.keys(), ('duplicates candidate name: ' + \n",
    "                                                                       candidate['Name'] + ' in ' + fpath)\n",
    "            # Add the candidate's name and image to the `candidate_indexer` dictionary.\n",
    "            candidate_indexer[candidate['Name']] = {'image': candidate['Image']}"
   ]
  },
  {
   "cell_type": "markdown",
   "id": "b74445cc",
   "metadata": {},
   "source": [
    "## Write into file\n",
    "\n",
    "write the dictionary into JSON file"
   ]
  },
  {
   "cell_type": "code",
   "execution_count": 71,
   "id": "97d8753e",
   "metadata": {},
   "outputs": [],
   "source": [
    "with open('./candidate_data.json', 'w') as fp:\n",
    "    json.dump(candidate_indexer, fp, ensure_ascii=False)"
   ]
  },
  {
   "cell_type": "code",
   "execution_count": null,
   "id": "fab57c3e",
   "metadata": {},
   "outputs": [],
   "source": []
  }
 ],
 "metadata": {
  "kernelspec": {
   "display_name": "Python 3 (ipykernel)",
   "language": "python",
   "name": "python3"
  },
  "language_info": {
   "codemirror_mode": {
    "name": "ipython",
    "version": 3
   },
   "file_extension": ".py",
   "mimetype": "text/x-python",
   "name": "python",
   "nbconvert_exporter": "python",
   "pygments_lexer": "ipython3",
   "version": "3.9.7"
  }
 },
 "nbformat": 4,
 "nbformat_minor": 5
}
