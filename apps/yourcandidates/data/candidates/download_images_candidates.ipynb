{
 "cells": [
  {
   "cell_type": "code",
   "execution_count": 1,
   "metadata": {},
   "outputs": [],
   "source": [
    "import requests\n",
    "from PIL import Image\n",
    "import json\n",
    "import os\n",
    "import re"
   ]
  },
  {
   "cell_type": "markdown",
   "metadata": {},
   "source": [
    "# พรรคภูมิใจไทย"
   ]
  },
  {
   "cell_type": "code",
   "execution_count": 2,
   "metadata": {},
   "outputs": [],
   "source": [
    "with open('./bhumjai-thai.json') as fp:\n",
    "    candidates = json.load(fp)['posts']"
   ]
  },
  {
   "cell_type": "code",
   "execution_count": 8,
   "metadata": {},
   "outputs": [],
   "source": [
    "parent_dir = '../../static/'\n",
    "directory = 'candidates/ภูมิใจไทย'\n",
    "if os.path.exists(parent_dir + directory) == False :\n",
    "    os.makedirs(parent_dir + directory)"
   ]
  },
  {
   "cell_type": "code",
   "execution_count": 9,
   "metadata": {},
   "outputs": [],
   "source": [
    "string_replace = ['นางสาว', 'นาย', 'นาง', 'ร.ต.ต.', 'จ.อ.', 'พ.ต.อ.']\n",
    "for person in candidates:\n",
    "    image_url = person['acf']['image']['sizes']['thumbnail']\n",
    "    filename = person['acf']['first_name'] + '_' + person['acf']['last_name']\n",
    "    filename =re.sub(\"\\t| \", '', filename)\n",
    "    for s in string_replace :\n",
    "        filename = filename.replace(s, '', 1)\n",
    "    image_fpath = directory + '/' + filename + '.webp'\n",
    "    if not os.path.exists(parent_dir + image_fpath):\n",
    "        response = requests.get(image_url)\n",
    "        if response.status_code:\n",
    "            fp = open(image_fpath, 'wb')\n",
    "            fp.write(response.content)\n",
    "            fp.close()\n",
    "\n",
    "    electoral_key = person['acf']['province']['label'] + '-' + person['acf']['district']\n",
    "    fpath = '../electorals/' + electoral_key + '.json'\n",
    "    fp = open(fpath)\n",
    "    electoral_data = json.load(fp)\n",
    "    for p in electoral_data['People']:\n",
    "        if p['Party'] == 'ภูมิใจไทย':\n",
    "            p['Image'] = \"/yourcandidates/\" + image_fpath\n",
    "    fp.close()\n",
    "    with open(fpath, 'w') as fp:\n",
    "        json.dump(electoral_data, fp, ensure_ascii=False)"
   ]
  },
  {
   "cell_type": "markdown",
   "metadata": {},
   "source": [
    "# พรรคเพื่อไทย"
   ]
  },
  {
   "cell_type": "code",
   "execution_count": 25,
   "metadata": {},
   "outputs": [],
   "source": [
    "# from bs4 import BeaurifulSoup\n",
    "# import requests"
   ]
  },
  {
   "cell_type": "code",
   "execution_count": null,
   "metadata": {},
   "outputs": [],
   "source": []
  }
 ],
 "metadata": {
  "kernelspec": {
   "display_name": "Python 3 (ipykernel)",
   "language": "python",
   "name": "python3"
  },
  "language_info": {
   "codemirror_mode": {
    "name": "ipython",
    "version": 3
   },
   "file_extension": ".py",
   "mimetype": "text/x-python",
   "name": "python",
   "nbconvert_exporter": "python",
   "pygments_lexer": "ipython3",
   "version": "3.9.7"
  }
 },
 "nbformat": 4,
 "nbformat_minor": 2
}
