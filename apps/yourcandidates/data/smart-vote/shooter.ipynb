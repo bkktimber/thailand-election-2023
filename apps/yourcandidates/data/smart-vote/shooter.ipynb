{
 "cells": [
  {
   "cell_type": "code",
   "execution_count": null,
   "id": "1532fdae",
   "metadata": {},
   "outputs": [],
   "source": [
    "import requests\n",
    "import json\n",
    "from tqdm import tqdm\n",
    "import time\n",
    "import os\n",
    "import random"
   ]
  },
  {
   "cell_type": "markdown",
   "id": "dd74dfc8",
   "metadata": {},
   "source": [
    "URLs\n",
    "\n",
    "- http://13.215.146.238/api/api.php/select_province_and_zone\n",
    "\n",
    "This URL will return a list of all the provinces and election zones in the country.\n",
    "\n",
    "- http://13.215.146.238/api/api.php/select_election_zone_candidates?province=71&zoneNumber=2\n",
    "\n",
    "This URL will return the details of all the election candidates in the province with the ID `71` and zone number `2`.\n",
    "\n",
    "- http://13.215.146.238/api/api.php/select_election_candidate?candidateId=e8ce23553399625dcf33b029d29c2084\n",
    "\n",
    "This URL will return the details of the election candidate with the ID `e8ce23553399625dcf33b029d29c2084`.\n",
    "\n",
    "\n",
    "- http://13.215.146.238/images/candidate/thumb/71/2/7f2ebf81374ec54fd727f65d882c88d3.jpg\n",
    "\n",
    "This URL will return a thumbnail image of the election candidate with the ID `e8ce23553399625dcf33b029d29c2084`."
   ]
  },
  {
   "cell_type": "code",
   "execution_count": 36,
   "id": "6f17077b",
   "metadata": {},
   "outputs": [],
   "source": [
    "def getter(slug, params={}):\n",
    "    ep = 'http://13.215.146.238/api/api.php/' + slug\n",
    "    resp = requests.get(ep, params=params)\n",
    "    data = resp.json()\n",
    "    if 'MessageCode' in data.keys() and data['MessageCode'] == '00000':\n",
    "        return data['Result']\n",
    "    if 'error_code' in data.keys() and data['error_code'] == 0:\n",
    "        return data['data_list']\n",
    "    return []"
   ]
  },
  {
   "cell_type": "code",
   "execution_count": 20,
   "id": "53b47c6f",
   "metadata": {},
   "outputs": [],
   "source": [
    "def get_candidate_info(candidate_id):\n",
    "    return getter('select_election_candidate',\n",
    "                  {'candidateId': candidate_id})"
   ]
  },
  {
   "cell_type": "code",
   "execution_count": 21,
   "id": "11644175",
   "metadata": {},
   "outputs": [
    {
     "data": {
      "text/plain": [
       "{'Id': 'e8ce23553399625dcf33b029d29c2084',\n",
       " 'Title': 'นางสาว',\n",
       " 'FirstName': 'อรอนงค์',\n",
       " 'LastName': '  กาญจนชูศักดิ์',\n",
       " 'PartyName': 'ประชาธิปัตย์',\n",
       " 'PartyNumber': '1',\n",
       " 'CandidateNo': '1',\n",
       " 'Age': '61',\n",
       " 'Occupation': 'นักการเมือง',\n",
       " 'HighestEducation': 'ปริญญาโท'}"
      ]
     },
     "execution_count": 21,
     "metadata": {},
     "output_type": "execute_result"
    }
   ],
   "source": [
    "get_candidate_info('e8ce23553399625dcf33b029d29c2084')"
   ]
  },
  {
   "cell_type": "code",
   "execution_count": 34,
   "id": "227cdded",
   "metadata": {},
   "outputs": [],
   "source": [
    "def get_candidates_in_district(prov_code, elect_dist_number):\n",
    "    return getter('select_election_zone_candidates',\n",
    "                  {'province': prov_code, 'zoneNumber': elect_dist_number})"
   ]
  },
  {
   "cell_type": "code",
   "execution_count": 39,
   "id": "6cd79ecd",
   "metadata": {},
   "outputs": [
    {
     "data": {
      "text/plain": [
       "{'Id': '7f2ebf81374ec54fd727f65d882c88d3',\n",
       " 'Title': 'นาย',\n",
       " 'FirstName': 'ยรรยง',\n",
       " 'LastName': '  กาญจนชูโต',\n",
       " 'PartyName': 'รวมไทยสร้างชาติ',\n",
       " 'PartyNumber': '229',\n",
       " 'CandidateNo': '1',\n",
       " 'Age': '63',\n",
       " 'Occupation': 'อดีตกำนัน',\n",
       " 'HighestEducation': 'ปริญญาตรี'}"
      ]
     },
     "execution_count": 39,
     "metadata": {},
     "output_type": "execute_result"
    }
   ],
   "source": [
    "get_candidate_info('7f2ebf81374ec54fd727f65d882c88d3')"
   ]
  },
  {
   "cell_type": "code",
   "execution_count": null,
   "id": "c4ec08c6",
   "metadata": {},
   "outputs": [],
   "source": [
    "resp = requests.get('http://13.215.146.238/images/candidate/thumb/71/2/7f2ebf81374ec54fd727f65d882c88d3.jpg')"
   ]
  },
  {
   "cell_type": "code",
   "execution_count": 40,
   "id": "444c0db3",
   "metadata": {},
   "outputs": [],
   "source": [
    "province_list = getter('select_province_and_zone')"
   ]
  },
  {
   "cell_type": "code",
   "execution_count": 53,
   "id": "17f9e1ba",
   "metadata": {},
   "outputs": [],
   "source": [
    "def candidate_list_from_api():\n",
    "    candidate_list = []\n",
    "    for province in tqdm(province_list):\n",
    "        dist_nums = len(province['zone_list'])\n",
    "        prov_code = province['province_code']\n",
    "        for dist_num in range(1, dist_nums+1):\n",
    "            candidates = get_candidates_in_district(prov_code, dist_num)\n",
    "            for candidate in candidates:\n",
    "                candidate['ProvinceName'] = province['province_name']\n",
    "                candidate['ProvinceCode'] = prov_code\n",
    "                candidate['ZoneNumber'] = dist_num\n",
    "            candidate_list += candidates\n",
    "    return candidate_list"
   ]
  },
  {
   "cell_type": "code",
   "execution_count": 54,
   "id": "26266eea",
   "metadata": {},
   "outputs": [
    {
     "name": "stderr",
     "output_type": "stream",
     "text": [
      "100%|███████████████████████████████████████████| 77/77 [00:45<00:00,  1.70it/s]\n"
     ]
    }
   ],
   "source": [
    "candidate_list = candidate_list_from_api()"
   ]
  },
  {
   "cell_type": "code",
   "execution_count": 59,
   "id": "d2d3a7ec",
   "metadata": {},
   "outputs": [],
   "source": [
    "def save_candidate_file(candidate_list):\n",
    "    with open('smartvote-candidates.json','w') as fp:\n",
    "        json.dump(candidate_list, fp, ensure_ascii=False)"
   ]
  },
  {
   "cell_type": "code",
   "execution_count": 60,
   "id": "fd2aa0e5",
   "metadata": {},
   "outputs": [],
   "source": [
    "save_candidate_file(candidate_list)"
   ]
  },
  {
   "cell_type": "code",
   "execution_count": 64,
   "id": "386b8be5",
   "metadata": {},
   "outputs": [
    {
     "name": "stderr",
     "output_type": "stream",
     "text": [
      "4767it [03:07, 25.41it/s]   \n"
     ]
    }
   ],
   "source": [
    "for i, candidate in tqdm(enumerate(candidate_list)):\n",
    "    if 'Age' in candidate.keys(): continue\n",
    "    candidate_id = candidate['CandidateId']\n",
    "    new_info = get_candidate_info(candidate_id)\n",
    "    candidate.update(new_info)\n",
    "    \n",
    "    # sleep\n",
    "    time.sleep(random.randrange(10,300)/1000)\n",
    "    \n",
    "    if random.random() < 0.01:\n",
    "        time.sleep(1)\n",
    "\n",
    "    if i % 100 == 0 or i == len(candidate_list) - 1:\n",
    "        save_candidate_file(candidate_list)"
   ]
  },
  {
   "cell_type": "code",
   "execution_count": 65,
   "id": "acaa1cf5",
   "metadata": {},
   "outputs": [],
   "source": [
    "with open('smartvote-candidates.json') as fp:\n",
    "    candidate_list = json.load(fp)"
   ]
  },
  {
   "cell_type": "markdown",
   "id": "5457c9c2",
   "metadata": {},
   "source": [
    "# Save"
   ]
  },
  {
   "cell_type": "code",
   "execution_count": 66,
   "id": "9eb61ce2",
   "metadata": {},
   "outputs": [],
   "source": [
    "import pandas as pd"
   ]
  },
  {
   "cell_type": "code",
   "execution_count": 67,
   "id": "9d2a746e",
   "metadata": {},
   "outputs": [],
   "source": [
    "candidate_df = pd.DataFrame(candidate_list).drop(columns='Id')"
   ]
  },
  {
   "cell_type": "code",
   "execution_count": 69,
   "id": "2c0a6cb2",
   "metadata": {},
   "outputs": [
    {
     "data": {
      "text/html": [
       "<div>\n",
       "<style scoped>\n",
       "    .dataframe tbody tr th:only-of-type {\n",
       "        vertical-align: middle;\n",
       "    }\n",
       "\n",
       "    .dataframe tbody tr th {\n",
       "        vertical-align: top;\n",
       "    }\n",
       "\n",
       "    .dataframe thead th {\n",
       "        text-align: right;\n",
       "    }\n",
       "</style>\n",
       "<table border=\"1\" class=\"dataframe\">\n",
       "  <thead>\n",
       "    <tr style=\"text-align: right;\">\n",
       "      <th></th>\n",
       "      <th>CandidateId</th>\n",
       "      <th>Title</th>\n",
       "      <th>FirstName</th>\n",
       "      <th>LastName</th>\n",
       "      <th>PartyName</th>\n",
       "      <th>PartyNumber</th>\n",
       "      <th>CandidateNo</th>\n",
       "      <th>Votable</th>\n",
       "      <th>ProvinceName</th>\n",
       "      <th>ProvinceCode</th>\n",
       "      <th>ZoneNumber</th>\n",
       "      <th>Age</th>\n",
       "      <th>Occupation</th>\n",
       "      <th>HighestEducation</th>\n",
       "    </tr>\n",
       "  </thead>\n",
       "  <tbody>\n",
       "    <tr>\n",
       "      <th>0</th>\n",
       "      <td>4eaa05d22e5210ff55be06bea28f00b5</td>\n",
       "      <td>นาย</td>\n",
       "      <td>เตชิต</td>\n",
       "      <td>ดำดี</td>\n",
       "      <td>ไทยสร้างไทย</td>\n",
       "      <td>227</td>\n",
       "      <td>1</td>\n",
       "      <td>True</td>\n",
       "      <td>กระบี่</td>\n",
       "      <td>81</td>\n",
       "      <td>1</td>\n",
       "      <td>59</td>\n",
       "      <td>ธุรกิจส่วนตัว</td>\n",
       "      <td>ปริญญาตรี</td>\n",
       "    </tr>\n",
       "    <tr>\n",
       "      <th>1</th>\n",
       "      <td>8e5cce4ea6265107a8f86e54812adf5d</td>\n",
       "      <td>นาย</td>\n",
       "      <td>กิตติ</td>\n",
       "      <td>กิตติธรกุล</td>\n",
       "      <td>ภูมิใจไทย</td>\n",
       "      <td>63</td>\n",
       "      <td>2</td>\n",
       "      <td>True</td>\n",
       "      <td>กระบี่</td>\n",
       "      <td>81</td>\n",
       "      <td>1</td>\n",
       "      <td>42</td>\n",
       "      <td>เลขานุการนายกองค์การบริหารส่วนจังหวัดกระบี่</td>\n",
       "      <td>ปริญญาโท</td>\n",
       "    </tr>\n",
       "    <tr>\n",
       "      <th>2</th>\n",
       "      <td>ed0aa9d9423f60a85589beba5fa30e8c</td>\n",
       "      <td>นาย</td>\n",
       "      <td>ธนวัช</td>\n",
       "      <td>ภูเก้าล้วน</td>\n",
       "      <td>ประชาธิปัตย์</td>\n",
       "      <td>1</td>\n",
       "      <td>3</td>\n",
       "      <td>True</td>\n",
       "      <td>กระบี่</td>\n",
       "      <td>81</td>\n",
       "      <td>1</td>\n",
       "      <td>43</td>\n",
       "      <td>นักธุรกิจ</td>\n",
       "      <td>ปริญญาโท</td>\n",
       "    </tr>\n",
       "    <tr>\n",
       "      <th>3</th>\n",
       "      <td>8024dbdb7ccaabeffc13c1a28465bac8</td>\n",
       "      <td>นาย</td>\n",
       "      <td>สรรเพ็ชญ</td>\n",
       "      <td>ศรีสวัสดิ์</td>\n",
       "      <td>รวมไทยสร้างชาติ</td>\n",
       "      <td>229</td>\n",
       "      <td>4</td>\n",
       "      <td>True</td>\n",
       "      <td>กระบี่</td>\n",
       "      <td>81</td>\n",
       "      <td>1</td>\n",
       "      <td>29</td>\n",
       "      <td>ธุรกิจส่วนตัว</td>\n",
       "      <td>ปริญญาตรี</td>\n",
       "    </tr>\n",
       "    <tr>\n",
       "      <th>4</th>\n",
       "      <td>af6604ed85484d4600d7ac58027d0ee6</td>\n",
       "      <td>ร้อยตำรวจตรี</td>\n",
       "      <td>ฮัจญีวิทย์</td>\n",
       "      <td>แดงกุล</td>\n",
       "      <td>เสรีรวมไทย</td>\n",
       "      <td>145</td>\n",
       "      <td>5</td>\n",
       "      <td>True</td>\n",
       "      <td>กระบี่</td>\n",
       "      <td>81</td>\n",
       "      <td>1</td>\n",
       "      <td>55</td>\n",
       "      <td>รับราชการ</td>\n",
       "      <td>ปริญญาตรี</td>\n",
       "    </tr>\n",
       "    <tr>\n",
       "      <th>...</th>\n",
       "      <td>...</td>\n",
       "      <td>...</td>\n",
       "      <td>...</td>\n",
       "      <td>...</td>\n",
       "      <td>...</td>\n",
       "      <td>...</td>\n",
       "      <td>...</td>\n",
       "      <td>...</td>\n",
       "      <td>...</td>\n",
       "      <td>...</td>\n",
       "      <td>...</td>\n",
       "      <td>...</td>\n",
       "      <td>...</td>\n",
       "      <td>...</td>\n",
       "    </tr>\n",
       "    <tr>\n",
       "      <th>4762</th>\n",
       "      <td>64cf930dc5715e70c157b69e049d8e30</td>\n",
       "      <td>นาย</td>\n",
       "      <td>สุวีศักดิ์</td>\n",
       "      <td>แสงสาย</td>\n",
       "      <td>ไทยภักดี</td>\n",
       "      <td>234</td>\n",
       "      <td>11</td>\n",
       "      <td>True</td>\n",
       "      <td>อุบลราชธานี</td>\n",
       "      <td>34</td>\n",
       "      <td>11</td>\n",
       "      <td>50</td>\n",
       "      <td>รับจ้าง</td>\n",
       "      <td>ปริญญาโท</td>\n",
       "    </tr>\n",
       "    <tr>\n",
       "      <th>4763</th>\n",
       "      <td>c49190208de4ab14a4db5731e7a08aee</td>\n",
       "      <td>นาย</td>\n",
       "      <td>ฉัตรชัย</td>\n",
       "      <td>คำใส</td>\n",
       "      <td>ไทยก้าวหน้า</td>\n",
       "      <td>246</td>\n",
       "      <td>12</td>\n",
       "      <td>True</td>\n",
       "      <td>อุบลราชธานี</td>\n",
       "      <td>34</td>\n",
       "      <td>11</td>\n",
       "      <td>63</td>\n",
       "      <td>ทนายความ</td>\n",
       "      <td>ปริญญาตรี</td>\n",
       "    </tr>\n",
       "    <tr>\n",
       "      <th>4764</th>\n",
       "      <td>2e95ebe8f28ddeac52621c05b6457e03</td>\n",
       "      <td>นาย</td>\n",
       "      <td>นพณัช</td>\n",
       "      <td>นามสีหาญ</td>\n",
       "      <td>ช่วยชาติ</td>\n",
       "      <td>157</td>\n",
       "      <td>13</td>\n",
       "      <td>True</td>\n",
       "      <td>อุบลราชธานี</td>\n",
       "      <td>34</td>\n",
       "      <td>11</td>\n",
       "      <td>54</td>\n",
       "      <td>เกษตรกร</td>\n",
       "      <td>ต่ำกว่าปริญญาตรี</td>\n",
       "    </tr>\n",
       "    <tr>\n",
       "      <th>4765</th>\n",
       "      <td>c16d025f19810b8ebf9676857326ccf0</td>\n",
       "      <td>นาย</td>\n",
       "      <td>บุญมา</td>\n",
       "      <td>จันทะรักษา</td>\n",
       "      <td>พลังปวงชนไทย</td>\n",
       "      <td>184</td>\n",
       "      <td>14</td>\n",
       "      <td>True</td>\n",
       "      <td>อุบลราชธานี</td>\n",
       "      <td>34</td>\n",
       "      <td>11</td>\n",
       "      <td>73</td>\n",
       "      <td>ทำนา</td>\n",
       "      <td>ต่ำกว่าปริญญาตรี</td>\n",
       "    </tr>\n",
       "    <tr>\n",
       "      <th>4766</th>\n",
       "      <td>45851d72a00ab080f6e978db1b51ce51</td>\n",
       "      <td>นาย</td>\n",
       "      <td>วิเชียร</td>\n",
       "      <td>สิมาทอง</td>\n",
       "      <td>ความหวังใหม่</td>\n",
       "      <td>13</td>\n",
       "      <td>15</td>\n",
       "      <td>True</td>\n",
       "      <td>อุบลราชธานี</td>\n",
       "      <td>34</td>\n",
       "      <td>11</td>\n",
       "      <td>61</td>\n",
       "      <td>เกษตรกร</td>\n",
       "      <td>ต่ำกว่าปริญญาตรี</td>\n",
       "    </tr>\n",
       "  </tbody>\n",
       "</table>\n",
       "<p>4767 rows × 14 columns</p>\n",
       "</div>"
      ],
      "text/plain": [
       "                           CandidateId         Title   FirstName  \\\n",
       "0     4eaa05d22e5210ff55be06bea28f00b5           นาย       เตชิต   \n",
       "1     8e5cce4ea6265107a8f86e54812adf5d           นาย       กิตติ   \n",
       "2     ed0aa9d9423f60a85589beba5fa30e8c           นาย       ธนวัช   \n",
       "3     8024dbdb7ccaabeffc13c1a28465bac8           นาย    สรรเพ็ชญ   \n",
       "4     af6604ed85484d4600d7ac58027d0ee6  ร้อยตำรวจตรี  ฮัจญีวิทย์   \n",
       "...                                ...           ...         ...   \n",
       "4762  64cf930dc5715e70c157b69e049d8e30           นาย  สุวีศักดิ์   \n",
       "4763  c49190208de4ab14a4db5731e7a08aee           นาย     ฉัตรชัย   \n",
       "4764  2e95ebe8f28ddeac52621c05b6457e03           นาย       นพณัช   \n",
       "4765  c16d025f19810b8ebf9676857326ccf0           นาย       บุญมา   \n",
       "4766  45851d72a00ab080f6e978db1b51ce51           นาย     วิเชียร   \n",
       "\n",
       "          LastName        PartyName PartyNumber CandidateNo  Votable  \\\n",
       "0             ดำดี      ไทยสร้างไทย         227           1     True   \n",
       "1       กิตติธรกุล        ภูมิใจไทย          63           2     True   \n",
       "2       ภูเก้าล้วน     ประชาธิปัตย์           1           3     True   \n",
       "3       ศรีสวัสดิ์  รวมไทยสร้างชาติ         229           4     True   \n",
       "4           แดงกุล       เสรีรวมไทย         145           5     True   \n",
       "...            ...              ...         ...         ...      ...   \n",
       "4762        แสงสาย         ไทยภักดี         234          11     True   \n",
       "4763          คำใส      ไทยก้าวหน้า         246          12     True   \n",
       "4764      นามสีหาญ         ช่วยชาติ         157          13     True   \n",
       "4765    จันทะรักษา     พลังปวงชนไทย         184          14     True   \n",
       "4766       สิมาทอง     ความหวังใหม่          13          15     True   \n",
       "\n",
       "     ProvinceName  ProvinceCode  ZoneNumber Age  \\\n",
       "0          กระบี่            81           1  59   \n",
       "1          กระบี่            81           1  42   \n",
       "2          กระบี่            81           1  43   \n",
       "3          กระบี่            81           1  29   \n",
       "4          กระบี่            81           1  55   \n",
       "...           ...           ...         ...  ..   \n",
       "4762  อุบลราชธานี            34          11  50   \n",
       "4763  อุบลราชธานี            34          11  63   \n",
       "4764  อุบลราชธานี            34          11  54   \n",
       "4765  อุบลราชธานี            34          11  73   \n",
       "4766  อุบลราชธานี            34          11  61   \n",
       "\n",
       "                                       Occupation  HighestEducation  \n",
       "0                                   ธุรกิจส่วนตัว         ปริญญาตรี  \n",
       "1     เลขานุการนายกองค์การบริหารส่วนจังหวัดกระบี่          ปริญญาโท  \n",
       "2                                       นักธุรกิจ          ปริญญาโท  \n",
       "3                                   ธุรกิจส่วนตัว         ปริญญาตรี  \n",
       "4                                       รับราชการ         ปริญญาตรี  \n",
       "...                                           ...               ...  \n",
       "4762                                      รับจ้าง          ปริญญาโท  \n",
       "4763                                     ทนายความ         ปริญญาตรี  \n",
       "4764                                      เกษตรกร  ต่ำกว่าปริญญาตรี  \n",
       "4765                                         ทำนา  ต่ำกว่าปริญญาตรี  \n",
       "4766                                      เกษตรกร  ต่ำกว่าปริญญาตรี  \n",
       "\n",
       "[4767 rows x 14 columns]"
      ]
     },
     "execution_count": 69,
     "metadata": {},
     "output_type": "execute_result"
    }
   ],
   "source": [
    "candidate_df"
   ]
  },
  {
   "cell_type": "code",
   "execution_count": 68,
   "id": "a275657d",
   "metadata": {},
   "outputs": [],
   "source": [
    "candidate_df.to_csv('smartvote-candidates.csv')"
   ]
  },
  {
   "cell_type": "code",
   "execution_count": null,
   "id": "631b14e9",
   "metadata": {},
   "outputs": [],
   "source": []
  }
 ],
 "metadata": {
  "kernelspec": {
   "display_name": "Python 3 (ipykernel)",
   "language": "python",
   "name": "python3"
  },
  "language_info": {
   "codemirror_mode": {
    "name": "ipython",
    "version": 3
   },
   "file_extension": ".py",
   "mimetype": "text/x-python",
   "name": "python",
   "nbconvert_exporter": "python",
   "pygments_lexer": "ipython3",
   "version": "3.9.7"
  }
 },
 "nbformat": 4,
 "nbformat_minor": 5
}
