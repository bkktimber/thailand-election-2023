{
 "cells": [
  {
   "cell_type": "code",
   "execution_count": 124,
   "id": "1532fdae",
   "metadata": {},
   "outputs": [],
   "source": [
    "import requests\n",
    "import json\n",
    "from tqdm.notebook import tqdm\n",
    "import time\n",
    "import os\n",
    "import random"
   ]
  },
  {
   "cell_type": "markdown",
   "id": "dd74dfc8",
   "metadata": {},
   "source": [
    "URLs\n",
    "\n",
    "- http://13.215.146.238/api/api.php/select_province_and_zone\n",
    "\n",
    "This URL will return a list of all the provinces and election zones in the country.\n",
    "\n",
    "- http://13.215.146.238/api/api.php/select_election_zone_candidates?province=71&zoneNumber=2\n",
    "\n",
    "This URL will return the details of all the election candidates in the province with the ID `71` and zone number `2`.\n",
    "\n",
    "- http://13.215.146.238/api/api.php/select_election_candidate?candidateId=e8ce23553399625dcf33b029d29c2084\n",
    "\n",
    "This URL will return the details of the election candidate with the ID `e8ce23553399625dcf33b029d29c2084`.\n",
    "\n",
    "\n",
    "- http://13.215.146.238/images/candidate/thumb/71/2/7f2ebf81374ec54fd727f65d882c88d3.jpg\n",
    "\n",
    "This URL will return a thumbnail image of the election candidate with the ID `e8ce23553399625dcf33b029d29c2084`."
   ]
  },
  {
   "cell_type": "code",
   "execution_count": null,
   "id": "6f17077b",
   "metadata": {},
   "outputs": [],
   "source": [
    "def getter(slug, params={}):\n",
    "    ep = 'http://13.215.146.238/api/api.php/' + slug\n",
    "    resp = requests.get(ep, params=params)\n",
    "    data = resp.json()\n",
    "    if 'MessageCode' in data.keys() and data['MessageCode'] == '00000':\n",
    "        return data['Result']\n",
    "    if 'error_code' in data.keys() and data['error_code'] == 0:\n",
    "        return data['data_list']\n",
    "    return []"
   ]
  },
  {
   "cell_type": "code",
   "execution_count": null,
   "id": "53b47c6f",
   "metadata": {},
   "outputs": [],
   "source": [
    "def get_candidate_info(candidate_id):\n",
    "    return getter('select_election_candidate',\n",
    "                  {'candidateId': candidate_id})"
   ]
  },
  {
   "cell_type": "code",
   "execution_count": null,
   "id": "11644175",
   "metadata": {},
   "outputs": [],
   "source": [
    "get_candidate_info('e8ce23553399625dcf33b029d29c2084')"
   ]
  },
  {
   "cell_type": "code",
   "execution_count": null,
   "id": "227cdded",
   "metadata": {},
   "outputs": [],
   "source": [
    "def get_candidates_in_district(prov_code, elect_dist_number):\n",
    "    return getter('select_election_zone_candidates',\n",
    "                  {'province': prov_code, 'zoneNumber': elect_dist_number})"
   ]
  },
  {
   "cell_type": "code",
   "execution_count": null,
   "id": "6cd79ecd",
   "metadata": {},
   "outputs": [],
   "source": [
    "get_candidate_info('7f2ebf81374ec54fd727f65d882c88d3')"
   ]
  },
  {
   "cell_type": "code",
   "execution_count": null,
   "id": "c4ec08c6",
   "metadata": {},
   "outputs": [],
   "source": [
    "resp = requests.get('http://13.215.146.238/images/candidate/thumb/71/2/7f2ebf81374ec54fd727f65d882c88d3.jpg')"
   ]
  },
  {
   "cell_type": "code",
   "execution_count": null,
   "id": "444c0db3",
   "metadata": {},
   "outputs": [],
   "source": [
    "province_list = getter('select_province_and_zone')"
   ]
  },
  {
   "cell_type": "code",
   "execution_count": null,
   "id": "b989b5ec",
   "metadata": {},
   "outputs": [],
   "source": [
    "with open('smartvote-candidates.json') as fp:\n",
    "    candidate_list = json.load(fp)"
   ]
  },
  {
   "cell_type": "code",
   "execution_count": 87,
   "id": "17f9e1ba",
   "metadata": {},
   "outputs": [],
   "source": [
    "def candidate_list_from_api(candidate_list=[]):\n",
    "    def find_candidate(candidate_id):\n",
    "        for candidate in candidate_list:\n",
    "            if candidate['CandidateId'] == candidate_id:\n",
    "                return candidate\n",
    "    for province in tqdm(province_list):\n",
    "        dist_nums = len(province['zone_list'])\n",
    "        prov_code = province['province_code']\n",
    "        for dist_num in range(1, dist_nums+1):\n",
    "            candidates = get_candidates_in_district(prov_code, dist_num)\n",
    "            for candidate in candidates:\n",
    "                former_data = find_candidate(candidate['CandidateId'])\n",
    "                if former_data is not None:\n",
    "                    for key in candidate:\n",
    "                        if former_data[key] != candidate[key]:\n",
    "                            former_data = candidate\n",
    "                else:\n",
    "                    candidate_list.append(candidate)\n",
    "                candidate['ProvinceName'] = province['province_name']\n",
    "                candidate['ProvinceCode'] = prov_code\n",
    "                candidate['ZoneNumber'] = dist_num\n",
    "    return candidate_list"
   ]
  },
  {
   "cell_type": "code",
   "execution_count": 88,
   "id": "26266eea",
   "metadata": {},
   "outputs": [
    {
     "name": "stderr",
     "output_type": "stream",
     "text": [
      "100%|███████████████████████████████████████████| 77/77 [00:32<00:00,  2.39it/s]\n"
     ]
    }
   ],
   "source": [
    "candidate_list = candidate_list_from_api(candidate_list)"
   ]
  },
  {
   "cell_type": "code",
   "execution_count": null,
   "id": "d2d3a7ec",
   "metadata": {},
   "outputs": [],
   "source": [
    "def save_candidate_file(candidate_list):\n",
    "    with open('smartvote-candidates.json','w') as fp:\n",
    "        json.dump(candidate_list, fp, ensure_ascii=False)"
   ]
  },
  {
   "cell_type": "code",
   "execution_count": 90,
   "id": "fd2aa0e5",
   "metadata": {},
   "outputs": [],
   "source": [
    "save_candidate_file(candidate_list)"
   ]
  },
  {
   "cell_type": "code",
   "execution_count": 91,
   "id": "386b8be5",
   "metadata": {},
   "outputs": [
    {
     "name": "stderr",
     "output_type": "stream",
     "text": [
      "100%|█████████████████████████████████████| 4776/4776 [00:02<00:00, 2156.99it/s]\n"
     ]
    }
   ],
   "source": [
    "i = 0\n",
    "for candidate in tqdm(candidate_list):\n",
    "    i += 1\n",
    "    if 'Age' in candidate.keys(): continue\n",
    "    candidate_id = candidate['CandidateId']\n",
    "    new_info = get_candidate_info(candidate_id)\n",
    "    candidate.update(new_info)\n",
    "    \n",
    "    # sleep\n",
    "    time.sleep(random.randrange(10,300)/1000)\n",
    "    \n",
    "    if random.random() < 0.01:\n",
    "        time.sleep(1)\n",
    "\n",
    "    if i % 100 == 0 or i == len(candidate_list) - 1:\n",
    "        save_candidate_file(candidate_list)"
   ]
  },
  {
   "cell_type": "code",
   "execution_count": null,
   "id": "acaa1cf5",
   "metadata": {},
   "outputs": [],
   "source": [
    "with open('smartvote-candidates.json') as fp:\n",
    "    candidate_list = json.load(fp)"
   ]
  },
  {
   "cell_type": "markdown",
   "id": "6c34768c",
   "metadata": {},
   "source": [
    "# Download images"
   ]
  },
  {
   "cell_type": "code",
   "execution_count": 141,
   "id": "afe97a96",
   "metadata": {},
   "outputs": [],
   "source": [
    "def get_image_candidate(candidate):\n",
    "    candidate_id = candidate['CandidateId']\n",
    "    province_code = candidate['ProvinceCode']\n",
    "    zone_number = candidate['ZoneNumber']\n",
    "    \n",
    "    image_url = ('http://13.215.146.238/images/candidate/thumb/'\n",
    "                 f'{province_code}/{zone_number}/{candidate_id}.jpg')\n",
    "    \n",
    "    file_name = candidate['FirstName'] + '-' + candidate['LastName'].strip() + '.jpg'\n",
    "    party = candidate['PartyName']\n",
    "    image_dir = os.path.join('images', party)\n",
    "    image_path = os.path.join(image_dir, file_name)\n",
    "    os.makedirs(image_dir, exist_ok=True)\n",
    "    \n",
    "    resp = requests.get(image_url)\n",
    "    if resp.status_code == 200:\n",
    "        fp = open(image_path, 'wb')\n",
    "        fp.write(resp.content)\n",
    "        fp.close()\n",
    "        \n",
    "        candidate['Image'] = image_path\n",
    "        return candidate\n",
    "    else:\n",
    "        print('status code is', resp.status_code)"
   ]
  },
  {
   "cell_type": "code",
   "execution_count": 142,
   "id": "c7897a80",
   "metadata": {
    "scrolled": true
   },
   "outputs": [
    {
     "data": {
      "application/vnd.jupyter.widget-view+json": {
       "model_id": "4df14dcd202e4624ac8f2e1b99ed21c8",
       "version_major": 2,
       "version_minor": 0
      },
      "text/plain": [
       "  0%|          | 0/4776 [00:00<?, ?it/s]"
      ]
     },
     "metadata": {},
     "output_type": "display_data"
    }
   ],
   "source": [
    "i = 0\n",
    "for candidate in tqdm(candidate_list):\n",
    "    if 'Image' in candidate.keys():\n",
    "        i += 1\n",
    "        continue\n",
    "    get_image_candidate(candidate)\n",
    "    \n",
    "    # sleep\n",
    "    time.sleep(random.randrange(10,100)/1000)\n",
    "    \n",
    "    if random.random() < 0.01:\n",
    "        time.sleep(1)\n",
    "\n",
    "    if i % 100 == 0 or i == len(candidate_list) - 1:\n",
    "        save_candidate_file(candidate_list)\n",
    "\n",
    "    i += 1"
   ]
  },
  {
   "cell_type": "markdown",
   "id": "a1c042b0",
   "metadata": {},
   "source": [
    "## convert images\n",
    "\n",
    "I wanted to convert image to .webp format and resize it to 156x156"
   ]
  },
  {
   "cell_type": "code",
   "execution_count": 143,
   "id": "59660f3e",
   "metadata": {},
   "outputs": [],
   "source": [
    "from PIL import Image\n",
    "from pathlib import Path"
   ]
  },
  {
   "cell_type": "code",
   "execution_count": 147,
   "id": "608832eb",
   "metadata": {},
   "outputs": [],
   "source": [
    "def convert_and_resize(candidate):\n",
    "    if 'Image' not in candidate.keys():\n",
    "        print(candidate)\n",
    "    original_image_path = candidate['Image']\n",
    "    image = Image.open(original_image_path)\n",
    "    destination_image_name = Path(original_image_path).with_suffix('.webp').name\n",
    "    image_dir = os.path.join('candidates', candidate['PartyName'],)\n",
    "    save_dir = os.path.join('../..', 'static', image_dir)\n",
    "    os.makedirs(save_dir, exist_ok=True)\n",
    "    h,w = image.height, image.width\n",
    "    r = 156/w\n",
    "    save_path = os.path.join(save_dir, destination_image_name)\n",
    "    if os.path.exists(save_path):\n",
    "        pass\n",
    "    else:\n",
    "        image.resize((int(w*r),int(h*r))).save(save_path, format=\"webp\")\n",
    "    candidate['ImageSrc'] = os.path.join('/', 'yourcandidates', image_dir, destination_image_name)"
   ]
  },
  {
   "cell_type": "code",
   "execution_count": 148,
   "id": "40a97958",
   "metadata": {},
   "outputs": [
    {
     "data": {
      "application/vnd.jupyter.widget-view+json": {
       "model_id": "375c9702b89341bbadaa97d74147df3f",
       "version_major": 2,
       "version_minor": 0
      },
      "text/plain": [
       "  0%|          | 0/4776 [00:00<?, ?it/s]"
      ]
     },
     "metadata": {},
     "output_type": "display_data"
    }
   ],
   "source": [
    "i = 0\n",
    "for candidate in tqdm(candidate_list):\n",
    "    i += 1\n",
    "    convert_and_resize(candidate)\n",
    "\n",
    "save_candidate_file(candidate_list)"
   ]
  },
  {
   "cell_type": "code",
   "execution_count": 146,
   "id": "a0688a86",
   "metadata": {},
   "outputs": [],
   "source": [
    "save_candidate_file(candidate_list)"
   ]
  },
  {
   "cell_type": "markdown",
   "id": "5457c9c2",
   "metadata": {},
   "source": [
    "# Save"
   ]
  },
  {
   "cell_type": "code",
   "execution_count": null,
   "id": "9eb61ce2",
   "metadata": {},
   "outputs": [],
   "source": [
    "import pandas as pd"
   ]
  },
  {
   "cell_type": "code",
   "execution_count": null,
   "id": "9d2a746e",
   "metadata": {},
   "outputs": [],
   "source": [
    "candidate_df = pd.DataFrame(candidate_list).drop(columns='Id')"
   ]
  },
  {
   "cell_type": "code",
   "execution_count": null,
   "id": "2c0a6cb2",
   "metadata": {},
   "outputs": [],
   "source": [
    "candidate_df"
   ]
  },
  {
   "cell_type": "code",
   "execution_count": null,
   "id": "a275657d",
   "metadata": {},
   "outputs": [],
   "source": [
    "candidate_df.to_csv('smartvote-candidates.csv')"
   ]
  },
  {
   "cell_type": "code",
   "execution_count": null,
   "id": "631b14e9",
   "metadata": {},
   "outputs": [],
   "source": []
  }
 ],
 "metadata": {
  "kernelspec": {
   "display_name": "Python 3 (ipykernel)",
   "language": "python",
   "name": "python3"
  },
  "language_info": {
   "codemirror_mode": {
    "name": "ipython",
    "version": 3
   },
   "file_extension": ".py",
   "mimetype": "text/x-python",
   "name": "python",
   "nbconvert_exporter": "python",
   "pygments_lexer": "ipython3",
   "version": "3.9.7"
  }
 },
 "nbformat": 4,
 "nbformat_minor": 5
}
