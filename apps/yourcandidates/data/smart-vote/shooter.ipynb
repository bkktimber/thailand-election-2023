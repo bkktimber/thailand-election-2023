{
 "cells": [
  {
   "cell_type": "code",
   "execution_count": null,
   "id": "1532fdae",
   "metadata": {},
   "outputs": [],
   "source": [
    "import requests\n",
    "import json\n",
    "from tqdm import tqdm\n",
    "import time\n",
    "import os\n",
    "import random"
   ]
  },
  {
   "cell_type": "markdown",
   "id": "dd74dfc8",
   "metadata": {},
   "source": [
    "URLs\n",
    "\n",
    "- http://13.215.146.238/api/api.php/select_province_and_zone\n",
    "\n",
    "This URL will return a list of all the provinces and election zones in the country.\n",
    "\n",
    "- http://13.215.146.238/api/api.php/select_election_zone_candidates?province=71&zoneNumber=2\n",
    "\n",
    "This URL will return the details of all the election candidates in the province with the ID `71` and zone number `2`.\n",
    "\n",
    "- http://13.215.146.238/api/api.php/select_election_candidate?candidateId=e8ce23553399625dcf33b029d29c2084\n",
    "\n",
    "This URL will return the details of the election candidate with the ID `e8ce23553399625dcf33b029d29c2084`.\n",
    "\n",
    "\n",
    "- http://13.215.146.238/images/candidate/thumb/71/2/7f2ebf81374ec54fd727f65d882c88d3.jpg\n",
    "\n",
    "This URL will return a thumbnail image of the election candidate with the ID `e8ce23553399625dcf33b029d29c2084`."
   ]
  },
  {
   "cell_type": "code",
   "execution_count": null,
   "id": "6f17077b",
   "metadata": {},
   "outputs": [],
   "source": [
    "def getter(slug, params={}):\n",
    "    ep = 'http://13.215.146.238/api/api.php/' + slug\n",
    "    resp = requests.get(ep, params=params)\n",
    "    data = resp.json()\n",
    "    if 'MessageCode' in data.keys() and data['MessageCode'] == '00000':\n",
    "        return data['Result']\n",
    "    if 'error_code' in data.keys() and data['error_code'] == 0:\n",
    "        return data['data_list']\n",
    "    return []"
   ]
  },
  {
   "cell_type": "code",
   "execution_count": null,
   "id": "53b47c6f",
   "metadata": {},
   "outputs": [],
   "source": [
    "def get_candidate_info(candidate_id):\n",
    "    return getter('select_election_candidate',\n",
    "                  {'candidateId': candidate_id})"
   ]
  },
  {
   "cell_type": "code",
   "execution_count": null,
   "id": "11644175",
   "metadata": {},
   "outputs": [],
   "source": [
    "get_candidate_info('e8ce23553399625dcf33b029d29c2084')"
   ]
  },
  {
   "cell_type": "code",
   "execution_count": null,
   "id": "227cdded",
   "metadata": {},
   "outputs": [],
   "source": [
    "def get_candidates_in_district(prov_code, elect_dist_number):\n",
    "    return getter('select_election_zone_candidates',\n",
    "                  {'province': prov_code, 'zoneNumber': prov_code})"
   ]
  },
  {
   "cell_type": "code",
   "execution_count": null,
   "id": "c4ec08c6",
   "metadata": {},
   "outputs": [],
   "source": [
    "resp = requests.get('http://13.215.146.238/images/candidate/thumb/71/2/7f2ebf81374ec54fd727f65d882c88d3.jpg')"
   ]
  },
  {
   "cell_type": "code",
   "execution_count": null,
   "id": "444c0db3",
   "metadata": {},
   "outputs": [],
   "source": [
    "province_list = getter('select_province_and_zone')"
   ]
  },
  {
   "cell_type": "code",
   "execution_count": null,
   "id": "17f9e1ba",
   "metadata": {},
   "outputs": [],
   "source": [
    "def candidate_list_from_api()\n",
    "    candidate_list = []\n",
    "    for province in tqdm(province_list):\n",
    "        dist_nums = len(province['zone_list'])\n",
    "        prov_code = province['province_code']\n",
    "        for dist_num in range(1, dist_nums+1):\n",
    "            candidates = get_candidates_in_district(prov_code, dist_nums)\n",
    "            for candidate in candidates:\n",
    "                candidate['ProvinceName'] = province['province_name']\n",
    "                candidate['ProvinceCode'] = prov_code\n",
    "                candidate['ZoneNumber'] = dist_num\n",
    "            candidate_list += candidates\n",
    "    return candidate_list"
   ]
  },
  {
   "cell_type": "code",
   "execution_count": null,
   "id": "fd2aa0e5",
   "metadata": {},
   "outputs": [],
   "source": [
    "# with open('smartvote-candidates.json','w') as fp:\n",
    "#     json.dump(candidate_list, fp, ensure_ascii=False)"
   ]
  },
  {
   "cell_type": "code",
   "execution_count": null,
   "id": "d2d3a7ec",
   "metadata": {},
   "outputs": [],
   "source": [
    "def save_candidate_file(candidate_list):\n",
    "    with open('smartvote-candidates.json','w') as fp:\n",
    "        json.dump(candidate_list, fp, ensure_ascii=False)"
   ]
  },
  {
   "cell_type": "code",
   "execution_count": null,
   "id": "386b8be5",
   "metadata": {},
   "outputs": [],
   "source": [
    "for i,candidate in tqdm(enumerate(candidate_list)):\n",
    "    if 'Age' in candidate.keys(): continue\n",
    "    candidate_id = candidate['CandidateId']\n",
    "    new_info = get_candidate_info(candidate_id)\n",
    "    candidate.update(new_info)\n",
    "    \n",
    "    # sleep\n",
    "    time.sleep(random.randrange(10,500)/1000)\n",
    "    \n",
    "    if random.random() < 0.01:\n",
    "        time.sleep(1)\n",
    "    if i % 100 == 0 or i == len(candidate_list) - 1:\n",
    "        save_candidate_file(candidate_list)"
   ]
  },
  {
   "cell_type": "code",
   "execution_count": null,
   "id": "7c4a92dc",
   "metadata": {},
   "outputs": [],
   "source": [
    "save_candidate_file(candidate_list)"
   ]
  },
  {
   "cell_type": "code",
   "execution_count": null,
   "id": "9eb61ce2",
   "metadata": {},
   "outputs": [],
   "source": [
    "import pandas as pd"
   ]
  },
  {
   "cell_type": "code",
   "execution_count": null,
   "id": "9d2a746e",
   "metadata": {},
   "outputs": [],
   "source": [
    "candidate_df = pd.DataFrame(candidate_list).drop(columns='Id')"
   ]
  },
  {
   "cell_type": "code",
   "execution_count": null,
   "id": "a275657d",
   "metadata": {},
   "outputs": [],
   "source": [
    "candidate_df"
   ]
  }
 ],
 "metadata": {
  "kernelspec": {
   "display_name": "Python 3 (ipykernel)",
   "language": "python",
   "name": "python3"
  },
  "language_info": {
   "codemirror_mode": {
    "name": "ipython",
    "version": 3
   },
   "file_extension": ".py",
   "mimetype": "text/x-python",
   "name": "python",
   "nbconvert_exporter": "python",
   "pygments_lexer": "ipython3",
   "version": "3.9.7"
  }
 },
 "nbformat": 4,
 "nbformat_minor": 5
}
